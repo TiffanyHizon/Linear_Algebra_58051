{
  "nbformat": 4,
  "nbformat_minor": 0,
  "metadata": {
    "colab": {
      "name": "LinAlg 58051 Hizon - Vectors Operation.ipynb",
      "provenance": [],
      "collapsed_sections": [
        "iBYCRM9mMwUj"
      ],
      "authorship_tag": "ABX9TyPuM+LOkxE8rA5lBFhRpWKJ",
      "include_colab_link": true
    },
    "kernelspec": {
      "name": "python3",
      "display_name": "Python 3"
    }
  },
  "cells": [
    {
      "cell_type": "markdown",
      "metadata": {
        "id": "view-in-github",
        "colab_type": "text"
      },
      "source": [
        "<a href=\"https://colab.research.google.com/github/TiffanyHizon/Linear_Algebra_58051/blob/main/Laboratory%20Activity%204/LinAlg_58051_Hizon_Vectors_Operation.ipynb\" target=\"_parent\"><img src=\"https://colab.research.google.com/assets/colab-badge.svg\" alt=\"Open In Colab\"/></a>"
      ]
    },
    {
      "cell_type": "markdown",
      "metadata": {
        "id": "-BPnrbRjqIkG"
      },
      "source": [
        "# **Task 1**\r\n",
        "\r\n",
        "Make an explicit function (not using any of NumPy's preset functions) solving the modulus of a vector using the Euclidian Norm formula:\r\n",
        "$$||X|| = \\sqrt{\\sum_{n=1}^{N}x_n^2}$$\r\n",
        "\r\n",
        "Create a program flowchart for your algorithm and explain it in your methodology. Create 6 different vectors which their element count should not be lower than 4 elements. Explain the results at the results discussion section while comparing them to the `np.linalg.norm()` function."
      ]
    },
    {
      "cell_type": "code",
      "metadata": {
        "id": "_RPP2U90qUrT"
      },
      "source": [
        "import numpy as np\r\n",
        "import math"
      ],
      "execution_count": 72,
      "outputs": []
    },
    {
      "cell_type": "code",
      "metadata": {
        "id": "zpBn0eOhsiA0"
      },
      "source": [
        "vector_1 = np.array([3, -2, 1, 0])\r\n",
        "vector_2 = np.array([4, 1, -5, 7])\r\n",
        "vector_3 = np.array([-1, 2, 5, 4])\r\n",
        "vector_4 = np.array([-3, 8, 1, 4])\r\n",
        "vector_5 = np.array([2, 1, 3, 5])\r\n",
        "vector_6 = np.array([0, 4, 2, 3])"
      ],
      "execution_count": 73,
      "outputs": []
    },
    {
      "cell_type": "code",
      "metadata": {
        "id": "nHJhVJAvV_1D",
        "colab": {
          "base_uri": "https://localhost:8080/"
        },
        "outputId": "b6edc276-bffd-4874-fcc5-f9724762e624"
      },
      "source": [
        "R_vector_1 = math.sqrt(sum(vector_1**2))\r\n",
        "R_vector_1"
      ],
      "execution_count": 74,
      "outputs": [
        {
          "output_type": "execute_result",
          "data": {
            "text/plain": [
              "3.7416573867739413"
            ]
          },
          "metadata": {
            "tags": []
          },
          "execution_count": 74
        }
      ]
    },
    {
      "cell_type": "code",
      "metadata": {
        "colab": {
          "base_uri": "https://localhost:8080/"
        },
        "id": "BA2Mz1bqWyNo",
        "outputId": "6517bcd9-3ca9-4677-ad72-c8a130054900"
      },
      "source": [
        "R_vector_2 = math.sqrt(sum(vector_2**2))\r\n",
        "R_vector_2"
      ],
      "execution_count": null,
      "outputs": [
        {
          "output_type": "execute_result",
          "data": {
            "text/plain": [
              "9.539392014169456"
            ]
          },
          "metadata": {
            "tags": []
          },
          "execution_count": 86
        }
      ]
    },
    {
      "cell_type": "code",
      "metadata": {
        "colab": {
          "base_uri": "https://localhost:8080/"
        },
        "id": "2nIE7Kw8W6Ck",
        "outputId": "ff97a29c-515f-4c7e-ae8a-b7a3ca708201"
      },
      "source": [
        "R_vector_3 = math.sqrt(sum(vector_3**2))\r\n",
        "R_vector_3"
      ],
      "execution_count": null,
      "outputs": [
        {
          "output_type": "execute_result",
          "data": {
            "text/plain": [
              "6.782329983125268"
            ]
          },
          "metadata": {
            "tags": []
          },
          "execution_count": 87
        }
      ]
    },
    {
      "cell_type": "code",
      "metadata": {
        "colab": {
          "base_uri": "https://localhost:8080/"
        },
        "id": "_f2Jf3vKXJ02",
        "outputId": "aeeb7434-79d9-495a-985f-4b97e3243354"
      },
      "source": [
        "R_vector_4 = math.sqrt(sum(vector_4**2))\r\n",
        "R_vector_4"
      ],
      "execution_count": null,
      "outputs": [
        {
          "output_type": "execute_result",
          "data": {
            "text/plain": [
              "9.486832980505138"
            ]
          },
          "metadata": {
            "tags": []
          },
          "execution_count": 88
        }
      ]
    },
    {
      "cell_type": "code",
      "metadata": {
        "colab": {
          "base_uri": "https://localhost:8080/"
        },
        "id": "k-Ss8cKLXQWV",
        "outputId": "f1df1c1a-a899-40c1-e28f-705b9e93a17c"
      },
      "source": [
        "R_vector_5 = math.sqrt(sum(vector_5**2))\r\n",
        "R_vector_5"
      ],
      "execution_count": null,
      "outputs": [
        {
          "output_type": "execute_result",
          "data": {
            "text/plain": [
              "6.244997998398398"
            ]
          },
          "metadata": {
            "tags": []
          },
          "execution_count": 89
        }
      ]
    },
    {
      "cell_type": "code",
      "metadata": {
        "colab": {
          "base_uri": "https://localhost:8080/"
        },
        "id": "GbIb32mdXYx2",
        "outputId": "82972f6a-0ccb-485b-8b4e-c0f3297ca9c2"
      },
      "source": [
        "R_vector_6 = math.sqrt(sum(vector_6**2))\r\n",
        "R_vector_6"
      ],
      "execution_count": null,
      "outputs": [
        {
          "output_type": "execute_result",
          "data": {
            "text/plain": [
              "5.385164807134504"
            ]
          },
          "metadata": {
            "tags": []
          },
          "execution_count": 90
        }
      ]
    },
    {
      "cell_type": "markdown",
      "metadata": {
        "id": "7RMQCW5SXjRg"
      },
      "source": [
        "# **Task 2**\r\n",
        "Make an explicit function (not using any of NumPy's preset functions nor the @ operator) solving the inner product of two vectors using the inner product formula:\r\n",
        "$$A\\cdot B = \\sum_{n=1}^{N} a_n \\times b_n $$\r\n",
        "$$whereas: N = len(A) = len(B)$$\r\n",
        "Create a program flowchart for your algorithm and explain it in your methodology. Create 5 distinct pairs vectors which their element count should not be lower than 5 elements. Explain the results at the results discussion section while comparing them to the `np.inner()` function."
      ]
    },
    {
      "cell_type": "code",
      "metadata": {
        "id": "WW-BimO7nkPZ"
      },
      "source": [
        "vector_7 = [1, 2, 3, 4, 5]\r\n",
        "vector_8 = [6, 7, 8, 9, 10]\r\n",
        "vector_9 = [10, 9, 8, 7, 6]\r\n",
        "vector_10 = [5, 4, 3, 2, 1]\r\n",
        "vector_11 = [-1, 3, 5, 2, 0]"
      ],
      "execution_count": 75,
      "outputs": []
    },
    {
      "cell_type": "code",
      "metadata": {
        "id": "HJxknG91rdsl",
        "colab": {
          "base_uri": "https://localhost:8080/"
        },
        "outputId": "b292cb5a-6584-45e5-9cce-54997649e608"
      },
      "source": [
        "np.inner(vector_7, vector_8)"
      ],
      "execution_count": 76,
      "outputs": [
        {
          "output_type": "execute_result",
          "data": {
            "text/plain": [
              "130"
            ]
          },
          "metadata": {
            "tags": []
          },
          "execution_count": 76
        }
      ]
    },
    {
      "cell_type": "code",
      "metadata": {
        "id": "bA1uTThUbJZa",
        "colab": {
          "base_uri": "https://localhost:8080/"
        },
        "outputId": "cbabbe1d-4bcd-43d4-be1f-51823a50bf6e"
      },
      "source": [
        "vector_7 = [[1, 2, 3, 4, 5]]\r\n",
        "vector_8 = [[6], [7], [8], [9], [10]]\r\n",
        "\r\n",
        "def inner_Product(vector_7,vector_8):\r\n",
        "  result = []\r\n",
        "  for iteration in range(0,len(vector_7)):\r\n",
        "    x=[]\r\n",
        "    for number in range(0,len(vector_8[0])):\r\n",
        "        ans = 0\r\n",
        "        for digit in range(0,len(vector_7[0])):\r\n",
        "            ans += vector_7[iteration][digit]*vector_8[digit][number]\r\n",
        "        x.append(ans)\r\n",
        "    result.append(x)\r\n",
        "\r\n",
        "  return result\r\n",
        "\r\n",
        "inner_Product(vector_7, vector_8)"
      ],
      "execution_count": 77,
      "outputs": [
        {
          "output_type": "execute_result",
          "data": {
            "text/plain": [
              "[[130]]"
            ]
          },
          "metadata": {
            "tags": []
          },
          "execution_count": 77
        }
      ]
    },
    {
      "cell_type": "code",
      "metadata": {
        "colab": {
          "base_uri": "https://localhost:8080/"
        },
        "id": "5RQOi88PcZTs",
        "outputId": "8524480a-65e8-4dbc-d74c-057184bc26d4"
      },
      "source": [
        "np.inner(vector_9, vector_10)"
      ],
      "execution_count": null,
      "outputs": [
        {
          "output_type": "execute_result",
          "data": {
            "text/plain": [
              "130"
            ]
          },
          "metadata": {
            "tags": []
          },
          "execution_count": 56
        }
      ]
    },
    {
      "cell_type": "code",
      "metadata": {
        "colab": {
          "base_uri": "https://localhost:8080/"
        },
        "id": "cZUlCVkDcx1b",
        "outputId": "08116c0b-9b7e-478f-b340-eb01289d0e36"
      },
      "source": [
        "vector_9 = [[10, 9, 8, 7, 6]]\r\n",
        "vector_10 = [[5], [4], [3], [2], [1]]\r\n",
        "\r\n",
        "def inner_Product(vector_9,vector_10):\r\n",
        "  result = []\r\n",
        "  for iteration in range(0,len(vector_9)):\r\n",
        "    x=[]\r\n",
        "    for number in range(0,len(vector_10[0])):\r\n",
        "        ans = 0\r\n",
        "        for digit in range(0,len(vector_9[0])):\r\n",
        "            ans += vector_9[iteration][digit]*vector_10[digit][number]\r\n",
        "        x.append(ans)\r\n",
        "    result.append(x)\r\n",
        "\r\n",
        "  return result\r\n",
        "\r\n",
        "print(inner_Product(vector_9, vector_10))"
      ],
      "execution_count": null,
      "outputs": [
        {
          "output_type": "stream",
          "text": [
            "[[130]]\n"
          ],
          "name": "stdout"
        }
      ]
    },
    {
      "cell_type": "code",
      "metadata": {
        "colab": {
          "base_uri": "https://localhost:8080/"
        },
        "id": "odbku8-0dLt3",
        "outputId": "b8310105-9103-45be-9d65-2ff1c6110b12"
      },
      "source": [
        "np.inner(vector_10, vector_11)"
      ],
      "execution_count": null,
      "outputs": [
        {
          "output_type": "execute_result",
          "data": {
            "text/plain": [
              "26"
            ]
          },
          "metadata": {
            "tags": []
          },
          "execution_count": 61
        }
      ]
    },
    {
      "cell_type": "code",
      "metadata": {
        "colab": {
          "base_uri": "https://localhost:8080/"
        },
        "id": "FA48HjQGdZGn",
        "outputId": "9b2eb84f-24d5-4c11-826c-29ec8748d8c5"
      },
      "source": [
        "vector_10 = [[5, 4, 3, 2, 1]]\r\n",
        "vector_11 = [[-1], [3], [5], [2], [0]]\r\n",
        "\r\n",
        "def inner_Product(vector_10,vector_11):\r\n",
        "  result = []\r\n",
        "  for iteration in range(0,len(vector_10)):\r\n",
        "    x=[]\r\n",
        "    for number in range(0,len(vector_11[0])):\r\n",
        "        ans = 0\r\n",
        "        for digit in range(0,len(vector_10[0])):\r\n",
        "            ans += vector_10[iteration][digit]*vector_11[digit][number]\r\n",
        "        x.append(ans)\r\n",
        "    result.append(x)\r\n",
        "\r\n",
        "  return result\r\n",
        "\r\n",
        "print(inner_Product(vector_10, vector_11))"
      ],
      "execution_count": null,
      "outputs": [
        {
          "output_type": "stream",
          "text": [
            "[[26]]\n"
          ],
          "name": "stdout"
        }
      ]
    },
    {
      "cell_type": "code",
      "metadata": {
        "colab": {
          "base_uri": "https://localhost:8080/"
        },
        "id": "ApbvUniYdzDD",
        "outputId": "5bf90c66-6038-462c-916a-b9d1972bab48"
      },
      "source": [
        "np.inner(vector_11, vector_7)"
      ],
      "execution_count": null,
      "outputs": [
        {
          "output_type": "execute_result",
          "data": {
            "text/plain": [
              "28"
            ]
          },
          "metadata": {
            "tags": []
          },
          "execution_count": 66
        }
      ]
    },
    {
      "cell_type": "code",
      "metadata": {
        "colab": {
          "base_uri": "https://localhost:8080/"
        },
        "id": "cUUC1Omdd-SA",
        "outputId": "9b58ce60-04ec-4fe3-98c0-5a57790a9756"
      },
      "source": [
        "vector_11 = [[-1, 3, 5, 2, 0]]\r\n",
        "vector_7 = [[1], [2], [3], [4], [5]]\r\n",
        "\r\n",
        "def inner_Product(vector_11,vector_7):\r\n",
        "  result = []\r\n",
        "  for iteration in range(0,len(vector_11)):\r\n",
        "    x=[]\r\n",
        "    for number in range(0,len(vector_7[0])):\r\n",
        "        ans = 0\r\n",
        "        for digit in range(0,len(vector_11[0])):\r\n",
        "            ans += vector_11[iteration][digit]*vector_7[digit][number]\r\n",
        "        x.append(ans)\r\n",
        "    result.append(x)\r\n",
        "\r\n",
        "  return result\r\n",
        "\r\n",
        "print(inner_Product(vector_11, vector_7))"
      ],
      "execution_count": null,
      "outputs": [
        {
          "output_type": "stream",
          "text": [
            "[[28]]\n"
          ],
          "name": "stdout"
        }
      ]
    },
    {
      "cell_type": "code",
      "metadata": {
        "colab": {
          "base_uri": "https://localhost:8080/"
        },
        "id": "bwPD7wvxeZHD",
        "outputId": "bf0b98cd-f6ff-4fc5-d218-a398ca0a3064"
      },
      "source": [
        "np.inner(vector_8, vector_10)"
      ],
      "execution_count": null,
      "outputs": [
        {
          "output_type": "execute_result",
          "data": {
            "text/plain": [
              "110"
            ]
          },
          "metadata": {
            "tags": []
          },
          "execution_count": 68
        }
      ]
    },
    {
      "cell_type": "code",
      "metadata": {
        "colab": {
          "base_uri": "https://localhost:8080/"
        },
        "id": "fHEnc8ZheddP",
        "outputId": "809f025a-efc9-4191-cd46-fafa2f87275f"
      },
      "source": [
        "vector_8 = [[6, 7, 8, 9, 10]]\r\n",
        "vector_10 = [[5], [4], [3], [2], [1]]\r\n",
        "\r\n",
        "def inner_Product(vector_8,vector_10):\r\n",
        "  result = []\r\n",
        "  for iteration in range(0,len(vector_8)):\r\n",
        "    x=[]\r\n",
        "    for number in range(0,len(vector_10[0])):\r\n",
        "        ans = 0\r\n",
        "        for digit in range(0,len(vector_8[0])):\r\n",
        "            ans += vector_8[iteration][digit]*vector_10[digit][number]\r\n",
        "        x.append(ans)\r\n",
        "    result.append(x)\r\n",
        "\r\n",
        "  return result\r\n",
        "\r\n",
        "print(inner_Product(vector_8, vector_10))"
      ],
      "execution_count": null,
      "outputs": [
        {
          "output_type": "stream",
          "text": [
            "[[110]]\n"
          ],
          "name": "stdout"
        }
      ]
    },
    {
      "cell_type": "markdown",
      "metadata": {
        "id": "iBYCRM9mMwUj"
      },
      "source": [
        "# **Task 3**\r\n",
        "Code the following vector operation and solve them using the given vector values\r\n",
        "$$ ((A^2 + B^2 + C^2) * (A * (B + A*B)./C))*||A + B + C||$$\r\n",
        "$$A = \\begin{bmatrix}-0.4\\\\4.3\\\\-0.6\\end{bmatrix}, B = \\begin{bmatrix}-0.2\\\\0.2\\\\1\\end{bmatrix}, C = \\begin{bmatrix}-0.2\\\\2.1\\\\-1.5\\end{bmatrix}$$\r\n",
        "Create a program flowchart for your algorithm and explain it in your methodology. In your results, compare your answer to the expected output, visualize, and explain the resulting vector using a 3D plot."
      ]
    },
    {
      "cell_type": "code",
      "metadata": {
        "id": "4VSlDdbCKbH4"
      },
      "source": [
        "import matplotlib.pyplot as plt"
      ],
      "execution_count": 53,
      "outputs": []
    },
    {
      "cell_type": "code",
      "metadata": {
        "id": "Cfa5ZcDCNn01"
      },
      "source": [
        "A = np.array([-0.4, 4.3, -0.6])\r\n",
        "B = np.array([-0.2, 0.2, 1])\r\n",
        "C = np.array([-0.2, 2.1, -1.5])"
      ],
      "execution_count": 29,
      "outputs": []
    },
    {
      "cell_type": "code",
      "metadata": {
        "colab": {
          "base_uri": "https://localhost:8080/"
        },
        "id": "SqLeynQVgXQf",
        "outputId": "8a2d7adb-1578-48ff-aa5c-6fb527344066"
      },
      "source": [
        "Result = ((A**2) + (B**2) + (C**2)) * (A * (B + (A * B))//C) * abs(A + B + C)\r\n",
        "Result"
      ],
      "execution_count": 25,
      "outputs": [
        {
          "output_type": "execute_result",
          "data": {
            "text/plain": [
              "array([-1.92000e-01,  3.02808e+02,  0.00000e+00])"
            ]
          },
          "metadata": {
            "tags": []
          },
          "execution_count": 25
        }
      ]
    },
    {
      "cell_type": "code",
      "metadata": {
        "colab": {
          "base_uri": "https://localhost:8080/"
        },
        "id": "heSbhHx4g2ET",
        "outputId": "f7f1f5b4-e63f-4bd7-8bb8-50e2f57510af"
      },
      "source": [
        "result_1 = ((A**2) + (B**2) + (C**2))\r\n",
        "result_2 = (A * (B + (A * B))//C)\r\n",
        "result_3 = abs(A + B +C)\r\n",
        "\r\n",
        "final_Result = result_1 * result_2 * result_3\r\n",
        "final_Result"
      ],
      "execution_count": 44,
      "outputs": [
        {
          "output_type": "execute_result",
          "data": {
            "text/plain": [
              "array([-1.92000e-01,  3.02808e+02,  0.00000e+00])"
            ]
          },
          "metadata": {
            "tags": []
          },
          "execution_count": 44
        }
      ]
    },
    {
      "cell_type": "code",
      "metadata": {
        "colab": {
          "base_uri": "https://localhost:8080/",
          "height": 248
        },
        "id": "jfK9xeEIKkZ9",
        "outputId": "d0a8bc52-200e-4885-9233-ebcf99a3bbf3"
      },
      "source": [
        "figure = plt.figure()\r\n",
        "axis = figure.gca(projection='3d')\r\n",
        "\r\n",
        "axis.set_xlim([0, 3])\r\n",
        "axis.set_ylim([0, 3])\r\n",
        "axis.set_zlim([0, 3])\r\n",
        "\r\n",
        "axis.quiver(0, 0, 0, A[0], A[1], A[2], color='red', label='A')\r\n",
        "axis.quiver(0, 0, 0, B[0], B[1], B[2], color='b', label='B')\r\n",
        "axis.quiver(0, 0, 0, C[0], C[1], C[2], color='g', label='C')\r\n",
        "axis.quiver(0, 0, 0, Result[0], Result[1], Result[2], color='orange', label='Result')\r\n",
        "\r\n",
        "plt.legend()\r\n",
        "plt.show()\r\n"
      ],
      "execution_count": 71,
      "outputs": [
        {
          "output_type": "display_data",
          "data": {
            "image/png": "[encoded data removed]",
            "text/plain": [
              "<Figure size 432x288 with 1 Axes>"
            ]
          },
          "metadata": {
            "tags": [],
            "needs_background": "light"
          }
        }
      ]
    }
  ]
}