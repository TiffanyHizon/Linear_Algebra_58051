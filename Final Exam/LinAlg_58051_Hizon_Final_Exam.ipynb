{
  "nbformat": 4,
  "nbformat_minor": 0,
  "metadata": {
    "colab": {
      "name": "LinAlg 58051 Hizon - Final Exam.ipynb",
      "provenance": [],
      "authorship_tag": "ABX9TyNtzH+cRJqhddxZyQm4dvx3",
      "include_colab_link": true
    },
    "kernelspec": {
      "name": "python3",
      "display_name": "Python 3"
    },
    "language_info": {
      "name": "python"
    }
  },
  "cells": [
    {
      "cell_type": "markdown",
      "metadata": {
        "id": "view-in-github",
        "colab_type": "text"
      },
      "source": [
        "<a href=\"https://colab.research.google.com/github/TiffanyHizon/Linear_Algebra_58051/blob/main/Final%20Exam/LinAlg_58051_Hizon_Final_Exam.ipynb\" target=\"_parent\"><img src=\"https://colab.research.google.com/assets/colab-badge.svg\" alt=\"Open In Colab\"/></a>"
      ]
    },
    {
      "cell_type": "markdown",
      "metadata": {
        "id": "j32u8VO4qmUT"
      },
      "source": [
        "**LINEAR REGRESSION**"
      ]
    },
    {
      "cell_type": "code",
      "metadata": {
        "id": "8njUnG2_qq2_"
      },
      "source": [
        "import numpy as np\n",
        "import matplotlib.pyplot as plt\n",
        "from sklearn.linear_model import LinearRegression #Machine Learning Library"
      ],
      "execution_count": 1,
      "outputs": []
    },
    {
      "cell_type": "code",
      "metadata": {
        "id": "VwyhtaJDq9MZ"
      },
      "source": [
        "Cost = np.array([25, 15, 10, 20, 35, 31, 30, 25, 15, 25, 32, 21]) #Independent Variable\n",
        "Revenue = np.array([35, 25, 20, 35, 50, 40, 40, 45, 30, 40, 45, 45]) #Dependent Variable"
      ],
      "execution_count": 2,
      "outputs": []
    },
    {
      "cell_type": "code",
      "metadata": {
        "id": "EKbez2DgrPFp"
      },
      "source": [
        "linReg = LinearRegression().fit(Cost, Revenue)\n",
        "revPredict = linReg.predict(Cost)"
      ],
      "execution_count": 18,
      "outputs": []
    },
    {
      "cell_type": "code",
      "metadata": {
        "colab": {
          "base_uri": "https://localhost:8080/"
        },
        "id": "xg_1zJ7prvvp",
        "outputId": "160d866d-568e-407d-c6db-a0ea7e2dac15"
      },
      "source": [
        "print(\"Slope: \", linReg.coef_) #Printing the slope of the line\n",
        "print(\"y-intercept: \", linReg.intercept_) #Printing the y-intercept"
      ],
      "execution_count": 20,
      "outputs": [
        {
          "output_type": "stream",
          "text": [
            "Slope:  [0.99287169]\n",
            "y-intercept:  14.002036659877795\n"
          ],
          "name": "stdout"
        }
      ]
    },
    {
      "cell_type": "code",
      "metadata": {
        "colab": {
          "base_uri": "https://localhost:8080/",
          "height": 279
        },
        "id": "BOPGVD9HsQ28",
        "outputId": "f712f17d-1174-4be0-8aed-91635ce01765"
      },
      "source": [
        "plt.xlabel(\"Cost\")\n",
        "plt.ylabel(\"Revenue\")\n",
        "\n",
        "plt.scatter(Cost, Revenue, color=\"seagreen\")\n",
        "plt.plot(Cost, revPredict, color=\"coral\")\n",
        "\n",
        "plt.grid()\n",
        "plt.show()"
      ],
      "execution_count": 21,
      "outputs": [
        {
          "output_type": "display_data",
          "data": {
            "image/png": "[encoded data removed]",
            "text/plain": [
              "<Figure size 432x288 with 1 Axes>"
            ]
          },
          "metadata": {
            "tags": [],
            "needs_background": "light"
          }
        }
      ]
    }
  ]
}