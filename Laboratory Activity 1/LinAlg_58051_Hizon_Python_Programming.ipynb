{
  "nbformat": 4,
  "nbformat_minor": 0,
  "metadata": {
    "colab": {
      "name": "LinAlg 58051 Hizon - Python Programming.ipynb",
      "provenance": [],
      "collapsed_sections": [],
      "authorship_tag": "ABX9TyMXjJyn2yDILN5A0X/czRJI",
      "include_colab_link": true
    },
    "kernelspec": {
      "name": "python3",
      "display_name": "Python 3"
    }
  },
  "cells": [
    {
      "cell_type": "markdown",
      "metadata": {
        "id": "view-in-github",
        "colab_type": "text"
      },
      "source": [
        "<a href=\"https://colab.research.google.com/github/TiffanyHizon/Linear_Algebra_58051/blob/main/Laboratory%20Activity%201/LinAlg_58051_Hizon_Python_Programming.ipynb\" target=\"_parent\"><img src=\"https://colab.research.google.com/assets/colab-badge.svg\" alt=\"Open In Colab\"/></a>"
      ]
    },
    {
      "cell_type": "code",
      "metadata": {
        "id": "Q6ic6_bowfIp"
      },
      "source": [
        ""
      ],
      "execution_count": null,
      "outputs": []
    },
    {
      "cell_type": "markdown",
      "metadata": {
        "id": "qUZKBNlswhYU"
      },
      "source": [
        "**Python Exercise**\r\n"
      ]
    },
    {
      "cell_type": "markdown",
      "metadata": {
        "id": "PN-PSIX2wrs6"
      },
      "source": [
        "Instructions:\r\n",
        "  Create a grade calculator that computes for the semestral grade of a course. Students could type their names, the name of the course, then their prelim, midterm, and final grade.\r\n",
        "  The program should print the semestra grade in 2 decimal points and should display the following emojis depending on the situation:\r\n",
        "  Happy - when grade is greater than 70.00\r\n",
        "  laughing - when grade is exactly 70.00\r\n",
        "  sad - when grade is below 70.00\r\n",
        "\r\n",
        "  happy, lol, sad = \"\\U0001F600\",\"\\U0001F606\",\"\\U0001F62D\"\r\n"
      ]
    },
    {
      "cell_type": "code",
      "metadata": {
        "id": "vybjKph2z6Ql"
      },
      "source": [
        "print(\"Hello Klasmeyt, Welcome to Grade Calculator!\")\r\n",
        "\r\n",
        "def student_Grade():\r\n",
        "  student_Name = input(\"Enter Name: \")\r\n",
        "  student_Program = input(\"Enter Program: \")\r\n",
        "  student_Course = input(\"Enter a Course: \")\r\n",
        "  grades_Prelim = float(input(\"Enter Prelim Grades: \"))\r\n",
        "  grades_Midterm = float(input(\"Enter Midterm Grades: \"))\r\n",
        "  grades_Finals = float(input(\"Enter Final Grades: \"))\r\n",
        "  sem_Grade = ((grades_Prelim*0.3) + (grades_Midterm*0.3) + (grades_Finals*0.4))\r\n",
        "  sem_Grade = float(round(sem_Grade, 2))\r\n",
        "  round(sem_Grade, 2)\r\n",
        "  print(\"Hi Klasmeyt,\", student_Name,\", your semestral grade in \", student_Course , \"is: \", sem_Grade)\r\n",
        "\r\n",
        "  if sem_Grade > 70.00:\r\n",
        "    happy = \"\\U0001F600\"\r\n",
        "    print(\"Mood: \", happy)\r\n",
        "    # print(\"\\U0001F600\")\r\n",
        "  elif sem_Grade == 70.00:\r\n",
        "    laughing = \"\\U0001F606\"\r\n",
        "    print(\"Mood: \", laughing)\r\n",
        "    # print(\"\\U0001F606\")\r\n",
        "  else:\r\n",
        "    sad = \"\\U0001F62D\"\r\n",
        "    print(\"Mood: \", sad)\r\n",
        "    # print(\"\\U0001F62D\")\r\n",
        "\r\n",
        "student_Grade()"
      ],
      "execution_count": null,
      "outputs": []
    }
  ]
}