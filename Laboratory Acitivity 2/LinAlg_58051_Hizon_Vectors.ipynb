{
  "nbformat": 4,
  "nbformat_minor": 0,
  "metadata": {
    "colab": {
      "name": "LinAlg 58051 Hizon - Vectors.ipynb",
      "provenance": [],
      "collapsed_sections": [],
      "authorship_tag": "ABX9TyMXaPkmz0BfnYXgB/Uxa3vk",
      "include_colab_link": true
    },
    "kernelspec": {
      "name": "python3",
      "display_name": "Python 3"
    }
  },
  "cells": [
    {
      "cell_type": "markdown",
      "metadata": {
        "id": "view-in-github",
        "colab_type": "text"
      },
      "source": [
        "<a href=\"https://colab.research.google.com/github/TiffanyHizon/Linear_Algebra_58051/blob/main/Laboratory%20Acitivity%202/LinAlg_58051_Hizon_Vectors.ipynb\" target=\"_parent\"><img src=\"https://colab.research.google.com/assets/colab-badge.svg\" alt=\"Open In Colab\"/></a>"
      ]
    },
    {
      "cell_type": "code",
      "metadata": {
        "id": "C8yuPrOZ1BIu"
      },
      "source": [
        " "
      ],
      "execution_count": null,
      "outputs": []
    },
    {
      "cell_type": "markdown",
      "metadata": {
        "id": "aWTGlgby3Atp"
      },
      "source": [
        "**Coding Activity Week 2: Vectors**\r\n",
        "\r\n",
        "\r\n",
        "*   Declare 5 Vectors\r\n",
        "*   Perform the following operations in any combination and any number of trials.\r\n",
        "> Addition, Subtraction\r\n",
        "\r\n",
        "  >   Multiplication, Division\r\n",
        "\r\n",
        "  > Squaring and Square root\r\n",
        "\r\n",
        "  > Summation\r\n",
        "\r\n",
        "\r\n",
        "*   Visualize the vectors\r\n",
        "\r\n",
        "\r\n",
        "\r\n",
        "\r\n",
        "\r\n",
        "\r\n",
        "\r\n",
        "\r\n",
        "\r\n",
        "\r\n",
        "\r\n",
        "\r\n",
        "\r\n",
        "\r\n",
        "\r\n",
        "\r\n",
        "\r\n",
        "\r\n"
      ]
    },
    {
      "cell_type": "code",
      "metadata": {
        "id": "LS3Mh4ZM4ZDF"
      },
      "source": [
        "import numpy as np\r\n",
        "\r\n",
        "vector1 = np.array([1, 5])\r\n",
        "vector2 = np.array([3, 2])\r\n",
        "vector3 = np.array([-1, 3])\r\n",
        "vector4 = np.array([2, 4])\r\n",
        "vector5 = np.array([-2, 1])"
      ],
      "execution_count": 1,
      "outputs": []
    },
    {
      "cell_type": "code",
      "metadata": {
        "id": "4CXQ7wkMcie2"
      },
      "source": [
        "import matplotlib.pyplot as plt"
      ],
      "execution_count": 2,
      "outputs": []
    },
    {
      "cell_type": "markdown",
      "metadata": {
        "id": "eES5ode75-ks"
      },
      "source": [
        "**Operations**"
      ]
    },
    {
      "cell_type": "markdown",
      "metadata": {
        "id": "wiFIieO06DWN"
      },
      "source": [
        "Addition, Substraction"
      ]
    },
    {
      "cell_type": "markdown",
      "metadata": {
        "id": "5bdpD8JNVQzP"
      },
      "source": [
        "\r\n",
        "\r\n",
        "> Eager Execution\r\n",
        "\r\n"
      ]
    },
    {
      "cell_type": "code",
      "metadata": {
        "id": "g1nmlY256HTb",
        "colab": {
          "base_uri": "https://localhost:8080/"
        },
        "outputId": "96de5c83-8571-4ad9-d943-b21d4b20a105"
      },
      "source": [
        "r_Vector1 = vector1 + vector2 - vector3\r\n",
        "r_Vector1"
      ],
      "execution_count": 3,
      "outputs": [
        {
          "output_type": "execute_result",
          "data": {
            "text/plain": [
              "array([5, 4])"
            ]
          },
          "metadata": {
            "tags": []
          },
          "execution_count": 3
        }
      ]
    },
    {
      "cell_type": "code",
      "metadata": {
        "id": "zqFASZhyA6yv",
        "colab": {
          "base_uri": "https://localhost:8080/"
        },
        "outputId": "c22c610d-c6fc-4de8-8025-59eabf46f274"
      },
      "source": [
        "r_Vector2 = vector4 - vector5 + vector1\r\n",
        "r_Vector2"
      ],
      "execution_count": 4,
      "outputs": [
        {
          "output_type": "execute_result",
          "data": {
            "text/plain": [
              "array([5, 8])"
            ]
          },
          "metadata": {
            "tags": []
          },
          "execution_count": 4
        }
      ]
    },
    {
      "cell_type": "code",
      "metadata": {
        "id": "4CsTMbsGA8iu",
        "colab": {
          "base_uri": "https://localhost:8080/"
        },
        "outputId": "18b25ee3-587c-4311-e68f-d235ecc62022"
      },
      "source": [
        "r_Vector3 = vector2 + vector4 - vector3\r\n",
        "r_Vector3"
      ],
      "execution_count": 5,
      "outputs": [
        {
          "output_type": "execute_result",
          "data": {
            "text/plain": [
              "array([6, 3])"
            ]
          },
          "metadata": {
            "tags": []
          },
          "execution_count": 5
        }
      ]
    },
    {
      "cell_type": "markdown",
      "metadata": {
        "id": "utkS_Dy9VXws"
      },
      "source": [
        "\r\n",
        "\r\n",
        "> Functional Method\r\n",
        "\r\n"
      ]
    },
    {
      "cell_type": "code",
      "metadata": {
        "id": "sUeQRv_QVb-S",
        "colab": {
          "base_uri": "https://localhost:8080/"
        },
        "outputId": "53ab33f9-df69-41e0-fa1e-ca8e73cf919b"
      },
      "source": [
        "r_Vector4 = np.add(np.subtract(vector2, vector3), vector1)\r\n",
        "r_Vector4"
      ],
      "execution_count": 6,
      "outputs": [
        {
          "output_type": "execute_result",
          "data": {
            "text/plain": [
              "array([5, 4])"
            ]
          },
          "metadata": {
            "tags": []
          },
          "execution_count": 6
        }
      ]
    },
    {
      "cell_type": "code",
      "metadata": {
        "id": "efUdSr8JVjhJ",
        "colab": {
          "base_uri": "https://localhost:8080/"
        },
        "outputId": "aa601671-45a5-4ca3-9683-010951418e37"
      },
      "source": [
        "r_Vector5 = np.add(np.subtract(vector4, vector5), vector1)\r\n",
        "r_Vector5"
      ],
      "execution_count": 7,
      "outputs": [
        {
          "output_type": "execute_result",
          "data": {
            "text/plain": [
              "array([5, 8])"
            ]
          },
          "metadata": {
            "tags": []
          },
          "execution_count": 7
        }
      ]
    },
    {
      "cell_type": "code",
      "metadata": {
        "id": "fo3eLP9PVv_C",
        "colab": {
          "base_uri": "https://localhost:8080/"
        },
        "outputId": "37d249e6-200b-49c1-db76-4365546adba7"
      },
      "source": [
        "r_Vector6 = np.add(np.subtract(vector4, vector3), vector2)\r\n",
        "r_Vector6"
      ],
      "execution_count": 8,
      "outputs": [
        {
          "output_type": "execute_result",
          "data": {
            "text/plain": [
              "array([6, 3])"
            ]
          },
          "metadata": {
            "tags": []
          },
          "execution_count": 8
        }
      ]
    },
    {
      "cell_type": "markdown",
      "metadata": {
        "id": "FbzV-o4ZCTpN"
      },
      "source": [
        "Multiplication, Division"
      ]
    },
    {
      "cell_type": "markdown",
      "metadata": {
        "id": "bhDZ7HVGWAYO"
      },
      "source": [
        "\r\n",
        "\r\n",
        "> Eager Execution\r\n",
        "\r\n"
      ]
    },
    {
      "cell_type": "code",
      "metadata": {
        "id": "Jra45ruMCahk",
        "colab": {
          "base_uri": "https://localhost:8080/"
        },
        "outputId": "6ce96431-8d87-4ffc-ecd2-4af82e0a9b44"
      },
      "source": [
        "r_Vector7 = vector1 * vector2 / vector3\r\n",
        "r_Vector7"
      ],
      "execution_count": 9,
      "outputs": [
        {
          "output_type": "execute_result",
          "data": {
            "text/plain": [
              "array([-3.        ,  3.33333333])"
            ]
          },
          "metadata": {
            "tags": []
          },
          "execution_count": 9
        }
      ]
    },
    {
      "cell_type": "code",
      "metadata": {
        "id": "XLjjTuOPToXG",
        "colab": {
          "base_uri": "https://localhost:8080/"
        },
        "outputId": "bd64087a-04f8-40a3-fca4-740fdf19563b"
      },
      "source": [
        "r_Vector8 = vector4 * vector5 / vector1\r\n",
        "r_Vector8"
      ],
      "execution_count": 10,
      "outputs": [
        {
          "output_type": "execute_result",
          "data": {
            "text/plain": [
              "array([-4. ,  0.8])"
            ]
          },
          "metadata": {
            "tags": []
          },
          "execution_count": 10
        }
      ]
    },
    {
      "cell_type": "code",
      "metadata": {
        "id": "o4Z2wTxrTz9M",
        "colab": {
          "base_uri": "https://localhost:8080/"
        },
        "outputId": "25950383-c056-4e62-f681-c6ca7eded04b"
      },
      "source": [
        "r_Vector9 = vector2 * vector4 / vector3\r\n",
        "r_Vector9"
      ],
      "execution_count": 11,
      "outputs": [
        {
          "output_type": "execute_result",
          "data": {
            "text/plain": [
              "array([-6.        ,  2.66666667])"
            ]
          },
          "metadata": {
            "tags": []
          },
          "execution_count": 11
        }
      ]
    },
    {
      "cell_type": "markdown",
      "metadata": {
        "id": "tuoa7VHhWIiU"
      },
      "source": [
        "\r\n",
        "\r\n",
        "> Functional Method\r\n",
        "\r\n"
      ]
    },
    {
      "cell_type": "code",
      "metadata": {
        "id": "0-ea2jPaWMZ5",
        "colab": {
          "base_uri": "https://localhost:8080/"
        },
        "outputId": "9a05f317-0ba6-472b-a038-ec6549a0bb23"
      },
      "source": [
        "r_Vector10 = np.multiply(np.divide(vector2, vector3), vector1)\r\n",
        "r_Vector10"
      ],
      "execution_count": 12,
      "outputs": [
        {
          "output_type": "execute_result",
          "data": {
            "text/plain": [
              "array([-3.        ,  3.33333333])"
            ]
          },
          "metadata": {
            "tags": []
          },
          "execution_count": 12
        }
      ]
    },
    {
      "cell_type": "code",
      "metadata": {
        "id": "vpizUYfxWnDx",
        "colab": {
          "base_uri": "https://localhost:8080/"
        },
        "outputId": "d8400c15-0726-486b-f821-7ed3b32178bb"
      },
      "source": [
        "r_Vector11 = np.multiply(np.divide(vector5, vector1), vector4)\r\n",
        "r_Vector11"
      ],
      "execution_count": 13,
      "outputs": [
        {
          "output_type": "execute_result",
          "data": {
            "text/plain": [
              "array([-4. ,  0.8])"
            ]
          },
          "metadata": {
            "tags": []
          },
          "execution_count": 13
        }
      ]
    },
    {
      "cell_type": "code",
      "metadata": {
        "id": "WbqbUmSkWwmN",
        "colab": {
          "base_uri": "https://localhost:8080/"
        },
        "outputId": "db520702-6f3f-4cec-85ed-f08a2f0fec43"
      },
      "source": [
        "r_Vector12 = np.multiply(np.divide(vector4, vector3), vector2)\r\n",
        "r_Vector12"
      ],
      "execution_count": 14,
      "outputs": [
        {
          "output_type": "execute_result",
          "data": {
            "text/plain": [
              "array([-6.        ,  2.66666667])"
            ]
          },
          "metadata": {
            "tags": []
          },
          "execution_count": 14
        }
      ]
    },
    {
      "cell_type": "markdown",
      "metadata": {
        "id": "skjsd62BT9CJ"
      },
      "source": [
        "Squaring and Square root"
      ]
    },
    {
      "cell_type": "markdown",
      "metadata": {
        "id": "my7Fdu6XY8wC"
      },
      "source": [
        "\r\n",
        "\r\n",
        "> Eager Execution\r\n",
        "\r\n"
      ]
    },
    {
      "cell_type": "code",
      "metadata": {
        "id": "vVLELza1UByF",
        "colab": {
          "base_uri": "https://localhost:8080/"
        },
        "outputId": "c7b7f364-f5cc-4153-dd09-8bb14ca256b4"
      },
      "source": [
        "r_Vector12 = vector1**2\r\n",
        "r_Vector12"
      ],
      "execution_count": 15,
      "outputs": [
        {
          "output_type": "execute_result",
          "data": {
            "text/plain": [
              "array([ 1, 25])"
            ]
          },
          "metadata": {
            "tags": []
          },
          "execution_count": 15
        }
      ]
    },
    {
      "cell_type": "code",
      "metadata": {
        "id": "gVsUnp5qZK1H",
        "colab": {
          "base_uri": "https://localhost:8080/"
        },
        "outputId": "672c221f-023e-4507-8b9a-a165e9055f87"
      },
      "source": [
        "r_Vector13 = vector2**2\r\n",
        "r_Vector13"
      ],
      "execution_count": 16,
      "outputs": [
        {
          "output_type": "execute_result",
          "data": {
            "text/plain": [
              "array([9, 4])"
            ]
          },
          "metadata": {
            "tags": []
          },
          "execution_count": 16
        }
      ]
    },
    {
      "cell_type": "code",
      "metadata": {
        "id": "fBUZp-l3ZP5H",
        "colab": {
          "base_uri": "https://localhost:8080/"
        },
        "outputId": "7299fe94-900f-40cb-9a88-999d38486749"
      },
      "source": [
        "r_Vector14 = vector3**2\r\n",
        "r_Vector14"
      ],
      "execution_count": 17,
      "outputs": [
        {
          "output_type": "execute_result",
          "data": {
            "text/plain": [
              "array([1, 9])"
            ]
          },
          "metadata": {
            "tags": []
          },
          "execution_count": 17
        }
      ]
    },
    {
      "cell_type": "code",
      "metadata": {
        "id": "CqtfHErJZV8o",
        "colab": {
          "base_uri": "https://localhost:8080/"
        },
        "outputId": "6abd365f-a075-4899-b617-f5fa7f5fc4b3"
      },
      "source": [
        "r_Vector15 = vector4**2\r\n",
        "r_Vector15"
      ],
      "execution_count": 18,
      "outputs": [
        {
          "output_type": "execute_result",
          "data": {
            "text/plain": [
              "array([ 4, 16])"
            ]
          },
          "metadata": {
            "tags": []
          },
          "execution_count": 18
        }
      ]
    },
    {
      "cell_type": "code",
      "metadata": {
        "id": "9M9g-efwZe5g",
        "colab": {
          "base_uri": "https://localhost:8080/"
        },
        "outputId": "109b50a6-e4a9-4bf2-8a84-f8593f414f32"
      },
      "source": [
        "r_Vector16 = vector5**2\r\n",
        "r_Vector16"
      ],
      "execution_count": 19,
      "outputs": [
        {
          "output_type": "execute_result",
          "data": {
            "text/plain": [
              "array([4, 1])"
            ]
          },
          "metadata": {
            "tags": []
          },
          "execution_count": 19
        }
      ]
    },
    {
      "cell_type": "markdown",
      "metadata": {
        "id": "cEdvhdbLZo0j"
      },
      "source": [
        "\r\n",
        "\r\n",
        "> Functional Method\r\n",
        "\r\n"
      ]
    },
    {
      "cell_type": "code",
      "metadata": {
        "id": "E31GkQMHZsGQ",
        "colab": {
          "base_uri": "https://localhost:8080/"
        },
        "outputId": "90503d55-09ff-4830-ac68-916aac5343f4"
      },
      "source": [
        "r_Vector17 = np.square(vector1)\r\n",
        "r_Vector17"
      ],
      "execution_count": 20,
      "outputs": [
        {
          "output_type": "execute_result",
          "data": {
            "text/plain": [
              "array([ 1, 25])"
            ]
          },
          "metadata": {
            "tags": []
          },
          "execution_count": 20
        }
      ]
    },
    {
      "cell_type": "code",
      "metadata": {
        "id": "pb6aX0xvZzHZ",
        "colab": {
          "base_uri": "https://localhost:8080/"
        },
        "outputId": "39cd7247-1c0f-4519-f390-d4b432fd03f5"
      },
      "source": [
        "r_Vector18 = np.square(vector2)\r\n",
        "r_Vector18"
      ],
      "execution_count": 21,
      "outputs": [
        {
          "output_type": "execute_result",
          "data": {
            "text/plain": [
              "array([9, 4])"
            ]
          },
          "metadata": {
            "tags": []
          },
          "execution_count": 21
        }
      ]
    },
    {
      "cell_type": "code",
      "metadata": {
        "id": "i3zRTCoFZy3Y",
        "colab": {
          "base_uri": "https://localhost:8080/"
        },
        "outputId": "5af3e5d1-ffb2-437e-c1e7-6b3eba74894e"
      },
      "source": [
        "r_Vector19 = np.square(vector3)\r\n",
        "r_Vector19"
      ],
      "execution_count": 22,
      "outputs": [
        {
          "output_type": "execute_result",
          "data": {
            "text/plain": [
              "array([1, 9])"
            ]
          },
          "metadata": {
            "tags": []
          },
          "execution_count": 22
        }
      ]
    },
    {
      "cell_type": "code",
      "metadata": {
        "id": "VDebc0pzZyop",
        "colab": {
          "base_uri": "https://localhost:8080/"
        },
        "outputId": "31531edc-b424-43e0-b8ab-b90ce725d27f"
      },
      "source": [
        "r_Vector20 = np.square(vector4)\r\n",
        "r_Vector20"
      ],
      "execution_count": 23,
      "outputs": [
        {
          "output_type": "execute_result",
          "data": {
            "text/plain": [
              "array([ 4, 16])"
            ]
          },
          "metadata": {
            "tags": []
          },
          "execution_count": 23
        }
      ]
    },
    {
      "cell_type": "code",
      "metadata": {
        "id": "59or7hdtZyb9",
        "colab": {
          "base_uri": "https://localhost:8080/"
        },
        "outputId": "a2d171fd-b89d-4c82-ab0b-622ceb80eeb5"
      },
      "source": [
        "r_Vector21 = np.square(vector5)\r\n",
        "r_Vector21"
      ],
      "execution_count": 24,
      "outputs": [
        {
          "output_type": "execute_result",
          "data": {
            "text/plain": [
              "array([4, 1])"
            ]
          },
          "metadata": {
            "tags": []
          },
          "execution_count": 24
        }
      ]
    },
    {
      "cell_type": "code",
      "metadata": {
        "id": "qGtJ0pThb5Fj",
        "colab": {
          "base_uri": "https://localhost:8080/"
        },
        "outputId": "829bad1f-ae40-4cf0-ebed-d6b51fb111b3"
      },
      "source": [
        "r_Vector22 = np.sqrt(vector1)\r\n",
        "r_Vector22"
      ],
      "execution_count": 25,
      "outputs": [
        {
          "output_type": "execute_result",
          "data": {
            "text/plain": [
              "array([1.        , 2.23606798])"
            ]
          },
          "metadata": {
            "tags": []
          },
          "execution_count": 25
        }
      ]
    },
    {
      "cell_type": "code",
      "metadata": {
        "id": "7E0P2XmjcBB_",
        "colab": {
          "base_uri": "https://localhost:8080/"
        },
        "outputId": "969da867-d11e-4a9f-cf77-4517f781ca6c"
      },
      "source": [
        "r_Vector23 = np.sqrt(vector2)\r\n",
        "r_Vector23"
      ],
      "execution_count": 26,
      "outputs": [
        {
          "output_type": "execute_result",
          "data": {
            "text/plain": [
              "array([1.73205081, 1.41421356])"
            ]
          },
          "metadata": {
            "tags": []
          },
          "execution_count": 26
        }
      ]
    },
    {
      "cell_type": "code",
      "metadata": {
        "id": "S2OHLW7zcAkP",
        "colab": {
          "base_uri": "https://localhost:8080/"
        },
        "outputId": "d674b2be-fa48-4c79-828b-424cc8a82c16"
      },
      "source": [
        "r_Vector25 = np.sqrt(vector4)\r\n",
        "r_Vector25"
      ],
      "execution_count": 27,
      "outputs": [
        {
          "output_type": "execute_result",
          "data": {
            "text/plain": [
              "array([1.41421356, 2.        ])"
            ]
          },
          "metadata": {
            "tags": []
          },
          "execution_count": 27
        }
      ]
    },
    {
      "cell_type": "markdown",
      "metadata": {
        "id": "3VGSBSzkaO_L"
      },
      "source": [
        "Summation"
      ]
    },
    {
      "cell_type": "code",
      "metadata": {
        "id": "La1tgmYYavCC",
        "colab": {
          "base_uri": "https://localhost:8080/"
        },
        "outputId": "54d3ff73-e270-4306-ae84-6e726847d5f3"
      },
      "source": [
        "r_Vector27 = np.sum(vector1)\r\n",
        "r_Vector27"
      ],
      "execution_count": 28,
      "outputs": [
        {
          "output_type": "execute_result",
          "data": {
            "text/plain": [
              "6"
            ]
          },
          "metadata": {
            "tags": []
          },
          "execution_count": 28
        }
      ]
    },
    {
      "cell_type": "code",
      "metadata": {
        "id": "_XJItMD0a0mr",
        "colab": {
          "base_uri": "https://localhost:8080/"
        },
        "outputId": "4775d7c5-6472-4544-ff8b-72eacef712ee"
      },
      "source": [
        "r_Vector28 = np.sum(vector2)\r\n",
        "r_Vector28"
      ],
      "execution_count": 29,
      "outputs": [
        {
          "output_type": "execute_result",
          "data": {
            "text/plain": [
              "5"
            ]
          },
          "metadata": {
            "tags": []
          },
          "execution_count": 29
        }
      ]
    },
    {
      "cell_type": "code",
      "metadata": {
        "id": "ElTWDvzfa0Pu",
        "colab": {
          "base_uri": "https://localhost:8080/"
        },
        "outputId": "36820c0a-1171-4789-cd42-0d6eb5fb4b15"
      },
      "source": [
        "r_Vector29 = np.sum(vector3)\r\n",
        "r_Vector29"
      ],
      "execution_count": 30,
      "outputs": [
        {
          "output_type": "execute_result",
          "data": {
            "text/plain": [
              "2"
            ]
          },
          "metadata": {
            "tags": []
          },
          "execution_count": 30
        }
      ]
    },
    {
      "cell_type": "code",
      "metadata": {
        "id": "keRBmBVpa0EQ",
        "colab": {
          "base_uri": "https://localhost:8080/"
        },
        "outputId": "6e0affb8-4057-48ff-927f-84fa3a593618"
      },
      "source": [
        "r_Vector30 = np.sum(vector4)\r\n",
        "r_Vector30"
      ],
      "execution_count": 31,
      "outputs": [
        {
          "output_type": "execute_result",
          "data": {
            "text/plain": [
              "6"
            ]
          },
          "metadata": {
            "tags": []
          },
          "execution_count": 31
        }
      ]
    },
    {
      "cell_type": "code",
      "metadata": {
        "id": "QRmQ55xCaz-J",
        "colab": {
          "base_uri": "https://localhost:8080/"
        },
        "outputId": "b69282e0-88c4-481f-da6a-81ab06b2335a"
      },
      "source": [
        "r_Vector31 = np.sum(vector5)\r\n",
        "r_Vector31"
      ],
      "execution_count": 32,
      "outputs": [
        {
          "output_type": "execute_result",
          "data": {
            "text/plain": [
              "-1"
            ]
          },
          "metadata": {
            "tags": []
          },
          "execution_count": 32
        }
      ]
    },
    {
      "cell_type": "markdown",
      "metadata": {
        "id": "49KkjGsc_zy_"
      },
      "source": [
        "**Visualizing Vectors**"
      ]
    },
    {
      "cell_type": "markdown",
      "metadata": {
        "id": "ei_baaB-QwkW"
      },
      "source": [
        "\r\n",
        "\r\n",
        "> Additon, Subtraction\r\n",
        "\r\n"
      ]
    },
    {
      "cell_type": "code",
      "metadata": {
        "colab": {
          "base_uri": "https://localhost:8080/",
          "height": 300
        },
        "id": "X9X3s3Na_2dz",
        "outputId": "0dbfdd7f-5ec7-47a0-8450-83fce2a3f26e"
      },
      "source": [
        "plt.xlim(-8,8)\r\n",
        "plt.ylim(-5,8)\r\n",
        "plt.xlabel('x-axis')\r\n",
        "plt.ylabel('y-axis')\r\n",
        "plt.quiver(0,0, vector1[0], vector1[1], angles='xy', scale_units='xy', scale=1, color='darkslategray', label=\"Vector 1\")\r\n",
        "plt.quiver(0,0, vector2[0], vector2[1], angles='xy', scale_units='xy', scale=1, color='darkslateblue', label=\"Vector 2\")\r\n",
        "plt.quiver(0,0, vector3[0], vector3[1], angles='xy', scale_units='xy', scale=1, color='salmon', label=\"Vector 3\")\r\n",
        "plt.quiver(0,0, r_Vector1[0], r_Vector1[1], angles='xy', scale_units='xy', scale=1, color='goldenrod', label=\"Result\")\r\n",
        "\r\n",
        "plt.legend()\r\n",
        "plt.grid()\r\n",
        "plt.show"
      ],
      "execution_count": null,
      "outputs": [
        {
          "output_type": "execute_result",
          "data": {
            "text/plain": [
              "<function matplotlib.pyplot.show>"
            ]
          },
          "metadata": {
            "tags": []
          },
          "execution_count": 47
        },
        {
          "output_type": "display_data",
          "data": {
            "image/png": "[encoded data removed]",
            "text/plain": [
              "<Figure size 432x288 with 1 Axes>"
            ]
          },
          "metadata": {
            "tags": [],
            "needs_background": "light"
          }
        }
      ]
    },
    {
      "cell_type": "code",
      "metadata": {
        "colab": {
          "base_uri": "https://localhost:8080/",
          "height": 300
        },
        "id": "LGJy-6G8IPgW",
        "outputId": "9e1f95b9-60ae-4d3f-a874-5ea433717a30"
      },
      "source": [
        "plt.xlim(-10,10)\r\n",
        "plt.ylim(-7,10)\r\n",
        "plt.xlabel('x-axis')\r\n",
        "plt.ylabel('y-axis')\r\n",
        "plt.quiver(0,0, vector4[0], vector4[1], angles='xy', scale_units='xy', scale=1, color='mediumseagreen', label=\"Vector 4\")\r\n",
        "plt.quiver(0,0, vector5[0], vector5[1], angles='xy', scale_units='xy', scale=1, color='hotpink', label=\"Vector 5\")\r\n",
        "plt.quiver(0,0, vector1[0], vector1[1], angles='xy', scale_units='xy', scale=1, color='darkorange', label=\"Vector 1\")\r\n",
        "plt.quiver(0,0, r_Vector2[0], r_Vector2[1], angles='xy', scale_units='xy', scale=1, color='darkred', label=\"Result\")\r\n",
        "\r\n",
        "plt.legend()\r\n",
        "plt.grid()\r\n",
        "plt.show"
      ],
      "execution_count": null,
      "outputs": [
        {
          "output_type": "execute_result",
          "data": {
            "text/plain": [
              "<function matplotlib.pyplot.show>"
            ]
          },
          "metadata": {
            "tags": []
          },
          "execution_count": 53
        },
        {
          "output_type": "display_data",
          "data": {
            "image/png": "[encoded data removed]",
            "text/plain": [
              "<Figure size 432x288 with 1 Axes>"
            ]
          },
          "metadata": {
            "tags": [],
            "needs_background": "light"
          }
        }
      ]
    },
    {
      "cell_type": "code",
      "metadata": {
        "colab": {
          "base_uri": "https://localhost:8080/",
          "height": 296
        },
        "id": "E5Ht4VArKCmF",
        "outputId": "e4ada06d-1be3-46a7-dce9-30c83b9e7b3e"
      },
      "source": [
        "plt.xlim(-7,10)\r\n",
        "plt.ylim(-7,7)\r\n",
        "plt.xlabel('x-axis')\r\n",
        "plt.ylabel('y-axis')\r\n",
        "plt.quiver(0,0, vector2[0], vector2[1], angles='xy', scale_units='xy', scale=1, color='darkturquoise', label=\"Vector 2\")\r\n",
        "plt.quiver(0,0, vector4[0], vector4[1], angles='xy', scale_units='xy', scale=1, color='olivedrab', label=\"Vector 4\")\r\n",
        "plt.quiver(0,0, vector3[0], vector3[1], angles='xy', scale_units='xy', scale=1, color='saddlebrown', label=\"Vector 3\")\r\n",
        "plt.quiver(0,0, r_Vector3[0], r_Vector3[1], angles='xy', scale_units='xy', scale=1, color='indigo', label=\"Result\")\r\n",
        "\r\n",
        "plt.legend()\r\n",
        "plt.grid()\r\n",
        "plt.show"
      ],
      "execution_count": null,
      "outputs": [
        {
          "output_type": "execute_result",
          "data": {
            "text/plain": [
              "<function matplotlib.pyplot.show>"
            ]
          },
          "metadata": {
            "tags": []
          },
          "execution_count": 60
        },
        {
          "output_type": "display_data",
          "data": {
            "image/png": "[encoded data removed]",
            "text/plain": [
              "<Figure size 432x288 with 1 Axes>"
            ]
          },
          "metadata": {
            "tags": [],
            "needs_background": "light"
          }
        }
      ]
    },
    {
      "cell_type": "markdown",
      "metadata": {
        "id": "tzzq6nkiQ4Eb"
      },
      "source": [
        "\r\n",
        "\r\n",
        "> Multiplication, Division\r\n",
        "\r\n"
      ]
    },
    {
      "cell_type": "code",
      "metadata": {
        "colab": {
          "base_uri": "https://localhost:8080/",
          "height": 300
        },
        "id": "MwPStD7kQ-U_",
        "outputId": "69e23cfb-54d1-428e-d713-7c7976b6d26d"
      },
      "source": [
        "plt.xlim(-10,10)\r\n",
        "plt.ylim(-7,10)\r\n",
        "plt.xlabel('x-axis')\r\n",
        "plt.ylabel('y-axis')\r\n",
        "plt.quiver(0,0, vector1[0], vector1[1], angles='xy', scale_units='xy', scale=1, color='mediumseagreen', label=\"Vector 1\")\r\n",
        "plt.quiver(0,0, vector2[0], vector2[1], angles='xy', scale_units='xy', scale=1, color='hotpink', label=\"Vector 2\")\r\n",
        "plt.quiver(0,0, vector3[0], vector3[1], angles='xy', scale_units='xy', scale=1, color='darkorange', label=\"Vector 3\")\r\n",
        "plt.quiver(0,0, r_Vector7[0], r_Vector7[1], angles='xy', scale_units='xy', scale=1, color='darkred', label=\"Result\")\r\n",
        "\r\n",
        "plt.legend()\r\n",
        "plt.grid()\r\n",
        "plt.show"
      ],
      "execution_count": null,
      "outputs": [
        {
          "output_type": "execute_result",
          "data": {
            "text/plain": [
              "<function matplotlib.pyplot.show>"
            ]
          },
          "metadata": {
            "tags": []
          },
          "execution_count": 62
        },
        {
          "output_type": "display_data",
          "data": {
            "image/png": "[encoded data removed]",
            "text/plain": [
              "<Figure size 432x288 with 1 Axes>"
            ]
          },
          "metadata": {
            "tags": [],
            "needs_background": "light"
          }
        }
      ]
    },
    {
      "cell_type": "code",
      "metadata": {
        "colab": {
          "base_uri": "https://localhost:8080/",
          "height": 300
        },
        "id": "UG8LsTL5Retg",
        "outputId": "d470b78f-2df8-4335-b37e-340ce60cd453"
      },
      "source": [
        "plt.xlim(-10,10)\r\n",
        "plt.ylim(-7,10)\r\n",
        "plt.xlabel('x-axis')\r\n",
        "plt.ylabel('y-axis')\r\n",
        "plt.quiver(0,0, vector4[0], vector4[1], angles='xy', scale_units='xy', scale=1, color='forestgreen', label=\"Vector 4\")\r\n",
        "plt.quiver(0,0, vector5[0], vector5[1], angles='xy', scale_units='xy', scale=1, color='maroon', label=\"Vector 5\")\r\n",
        "plt.quiver(0,0, vector1[0], vector1[1], angles='xy', scale_units='xy', scale=1, color='crimson', label=\"Vector 1\")\r\n",
        "plt.quiver(0,0, r_Vector8[0], r_Vector8[1], angles='xy', scale_units='xy', scale=1, color='skyblue', label=\"Result\")\r\n",
        "\r\n",
        "plt.legend()\r\n",
        "plt.grid()\r\n",
        "plt.show"
      ],
      "execution_count": null,
      "outputs": [
        {
          "output_type": "execute_result",
          "data": {
            "text/plain": [
              "<function matplotlib.pyplot.show>"
            ]
          },
          "metadata": {
            "tags": []
          },
          "execution_count": 66
        },
        {
          "output_type": "display_data",
          "data": {
            "image/png": "[encoded data removed]",
            "text/plain": [
              "<Figure size 432x288 with 1 Axes>"
            ]
          },
          "metadata": {
            "tags": [],
            "needs_background": "light"
          }
        }
      ]
    },
    {
      "cell_type": "code",
      "metadata": {
        "colab": {
          "base_uri": "https://localhost:8080/",
          "height": 300
        },
        "id": "3lW8Yi7PRqEA",
        "outputId": "d175d26a-3be1-47b4-a8d6-bb41636ea6b1"
      },
      "source": [
        "plt.xlim(-10,10)\r\n",
        "plt.ylim(-7,10)\r\n",
        "plt.xlabel('x-axis')\r\n",
        "plt.ylabel('y-axis')\r\n",
        "plt.quiver(0,0, vector2[0], vector2[1], angles='xy', scale_units='xy', scale=1, color='thistle', label=\"Vector 2\")\r\n",
        "plt.quiver(0,0, vector4[0], vector4[1], angles='xy', scale_units='xy', scale=1, color='darkcyan', label=\"Vector 4\")\r\n",
        "plt.quiver(0,0, vector3[0], vector3[1], angles='xy', scale_units='xy', scale=1, color='peru', label=\"Vector 3\")\r\n",
        "plt.quiver(0,0, r_Vector9[0], r_Vector9[1], angles='xy', scale_units='xy', scale=1, color='rosybrown', label=\"Result\")\r\n",
        "\r\n",
        "plt.legend()\r\n",
        "plt.grid()\r\n",
        "plt.show"
      ],
      "execution_count": null,
      "outputs": [
        {
          "output_type": "execute_result",
          "data": {
            "text/plain": [
              "<function matplotlib.pyplot.show>"
            ]
          },
          "metadata": {
            "tags": []
          },
          "execution_count": 68
        },
        {
          "output_type": "display_data",
          "data": {
            "image/png": "[encoded data removed]",
            "text/plain": [
              "<Figure size 432x288 with 1 Axes>"
            ]
          },
          "metadata": {
            "tags": [],
            "needs_background": "light"
          }
        }
      ]
    },
    {
      "cell_type": "markdown",
      "metadata": {
        "id": "ntUkq0TITGrI"
      },
      "source": [
        "\r\n",
        "\r\n",
        "> Squaring and Square root\r\n",
        "\r\n"
      ]
    },
    {
      "cell_type": "code",
      "metadata": {
        "colab": {
          "base_uri": "https://localhost:8080/",
          "height": 300
        },
        "id": "QmGn_MD-TRy_",
        "outputId": "5a89e4f7-f240-4e66-9c43-99e096e1a844"
      },
      "source": [
        "plt.xlim(-15,15)\r\n",
        "plt.ylim(-5,30)\r\n",
        "plt.xlabel('x-axis')\r\n",
        "plt.ylabel('y-axis')\r\n",
        "plt.quiver(0,0, vector1[0], vector1[1], angles='xy', scale_units='xy', scale=1, color='mediumseagreen', label=\"Vector 1\")\r\n",
        "plt.quiver(0,0, r_Vector12[0], r_Vector12[1], angles='xy', scale_units='xy', scale=1, color='darkred', label=\"Result\")\r\n",
        "\r\n",
        "plt.legend()\r\n",
        "plt.grid()\r\n",
        "plt.show"
      ],
      "execution_count": null,
      "outputs": [
        {
          "output_type": "execute_result",
          "data": {
            "text/plain": [
              "<function matplotlib.pyplot.show>"
            ]
          },
          "metadata": {
            "tags": []
          },
          "execution_count": 79
        },
        {
          "output_type": "display_data",
          "data": {
            "image/png": "[encoded data removed]",
            "text/plain": [
              "<Figure size 432x288 with 1 Axes>"
            ]
          },
          "metadata": {
            "tags": [],
            "needs_background": "light"
          }
        }
      ]
    },
    {
      "cell_type": "code",
      "metadata": {
        "colab": {
          "base_uri": "https://localhost:8080/",
          "height": 300
        },
        "id": "Iz0Z_pzFT0le",
        "outputId": "662b1bb1-1d6b-40cf-971f-939de9b73c52"
      },
      "source": [
        "plt.xlim(-10,15)\r\n",
        "plt.ylim(-5,10)\r\n",
        "plt.xlabel('x-axis')\r\n",
        "plt.ylabel('y-axis')\r\n",
        "plt.quiver(0,0, vector2[0], vector2[1], angles='xy', scale_units='xy', scale=1, color='aquamarine', label=\"Vector 2\")\r\n",
        "plt.quiver(0,0, r_Vector13[0], r_Vector13[1], angles='xy', scale_units='xy', scale=1, color='salmon', label=\"Result\")\r\n",
        "\r\n",
        "plt.legend()\r\n",
        "plt.grid()\r\n",
        "plt.show"
      ],
      "execution_count": null,
      "outputs": [
        {
          "output_type": "execute_result",
          "data": {
            "text/plain": [
              "<function matplotlib.pyplot.show>"
            ]
          },
          "metadata": {
            "tags": []
          },
          "execution_count": 81
        },
        {
          "output_type": "display_data",
          "data": {
            "image/png": "[encoded data removed]",
            "text/plain": [
              "<Figure size 432x288 with 1 Axes>"
            ]
          },
          "metadata": {
            "tags": [],
            "needs_background": "light"
          }
        }
      ]
    },
    {
      "cell_type": "code",
      "metadata": {
        "colab": {
          "base_uri": "https://localhost:8080/",
          "height": 300
        },
        "id": "QDTT0xzRUCu2",
        "outputId": "c5dc7737-7471-4e98-ede7-03fae040093c"
      },
      "source": [
        "plt.xlim(-10,10)\r\n",
        "plt.ylim(-5,10)\r\n",
        "plt.xlabel('x-axis')\r\n",
        "plt.ylabel('y-axis')\r\n",
        "plt.quiver(0,0, vector3[0], vector3[1], angles='xy', scale_units='xy', scale=1, color='lightcoral', label=\"Vector 3\")\r\n",
        "plt.quiver(0,0, r_Vector14[0], r_Vector14[1], angles='xy', scale_units='xy', scale=1, color='teal', label=\"Result\")\r\n",
        "\r\n",
        "plt.legend()\r\n",
        "plt.grid()\r\n",
        "plt.show"
      ],
      "execution_count": null,
      "outputs": [
        {
          "output_type": "execute_result",
          "data": {
            "text/plain": [
              "<function matplotlib.pyplot.show>"
            ]
          },
          "metadata": {
            "tags": []
          },
          "execution_count": 84
        },
        {
          "output_type": "display_data",
          "data": {
            "image/png": "[encoded data removed]",
            "text/plain": [
              "<Figure size 432x288 with 1 Axes>"
            ]
          },
          "metadata": {
            "tags": [],
            "needs_background": "light"
          }
        }
      ]
    },
    {
      "cell_type": "code",
      "metadata": {
        "colab": {
          "base_uri": "https://localhost:8080/",
          "height": 300
        },
        "id": "Wmz7PRa6UVWX",
        "outputId": "272c4cb1-a507-46c1-83d9-2fd7cdbd65e3"
      },
      "source": [
        "plt.xlim(-10,10)\r\n",
        "plt.ylim(-5,20)\r\n",
        "plt.xlabel('x-axis')\r\n",
        "plt.ylabel('y-axis')\r\n",
        "plt.quiver(0,0, vector4[0], vector4[1], angles='xy', scale_units='xy', scale=1, color='tomato', label=\"Vector 4\")\r\n",
        "plt.quiver(0,0, r_Vector15[0], r_Vector15[1], angles='xy', scale_units='xy', scale=1, color='blue', label=\"Result\")\r\n",
        "\r\n",
        "plt.legend()\r\n",
        "plt.grid()\r\n",
        "plt.show"
      ],
      "execution_count": null,
      "outputs": [
        {
          "output_type": "execute_result",
          "data": {
            "text/plain": [
              "<function matplotlib.pyplot.show>"
            ]
          },
          "metadata": {
            "tags": []
          },
          "execution_count": 88
        },
        {
          "output_type": "display_data",
          "data": {
            "image/png": "[encoded data removed]",
            "text/plain": [
              "<Figure size 432x288 with 1 Axes>"
            ]
          },
          "metadata": {
            "tags": [],
            "needs_background": "light"
          }
        }
      ]
    },
    {
      "cell_type": "code",
      "metadata": {
        "colab": {
          "base_uri": "https://localhost:8080/",
          "height": 296
        },
        "id": "UIi59mmWUz45",
        "outputId": "18a58882-a829-4a69-e352-cf6021f6e120"
      },
      "source": [
        "plt.xlim(-5,5)\r\n",
        "plt.ylim(-5,5)\r\n",
        "plt.xlabel('x-axis')\r\n",
        "plt.ylabel('y-axis')\r\n",
        "plt.quiver(0,0, vector5[0], vector5[1], angles='xy', scale_units='xy', scale=1, color='seagreen', label=\"Vector 5\")\r\n",
        "plt.quiver(0,0, r_Vector16[0], r_Vector16[1], angles='xy', scale_units='xy', scale=1, color='rebeccapurple', label=\"Result\")\r\n",
        "\r\n",
        "plt.legend()\r\n",
        "plt.grid()\r\n",
        "plt.show"
      ],
      "execution_count": null,
      "outputs": [
        {
          "output_type": "execute_result",
          "data": {
            "text/plain": [
              "<function matplotlib.pyplot.show>"
            ]
          },
          "metadata": {
            "tags": []
          },
          "execution_count": 91
        },
        {
          "output_type": "display_data",
          "data": {
            "image/png": "[encoded data removed]",
            "text/plain": [
              "<Figure size 432x288 with 1 Axes>"
            ]
          },
          "metadata": {
            "tags": [],
            "needs_background": "light"
          }
        }
      ]
    },
    {
      "cell_type": "code",
      "metadata": {
        "colab": {
          "base_uri": "https://localhost:8080/",
          "height": 296
        },
        "id": "mhnafUBLVNBO",
        "outputId": "3cacc0ab-101f-4628-bf89-481a6a2b2ec4"
      },
      "source": [
        "plt.xlim(-5,5)\r\n",
        "plt.ylim(-5,5)\r\n",
        "plt.xlabel('x-axis')\r\n",
        "plt.ylabel('y-axis')\r\n",
        "plt.quiver(0,0, vector1[0], vector1[1], angles='xy', scale_units='xy', scale=1, color='darkkhaki', label=\"Vector 1\")\r\n",
        "plt.quiver(0,0, r_Vector22[0], r_Vector22[1], angles='xy', scale_units='xy', scale=1, color='slategrey', label=\"Result\")\r\n",
        "\r\n",
        "plt.legend()\r\n",
        "plt.grid()\r\n",
        "plt.show"
      ],
      "execution_count": null,
      "outputs": [
        {
          "output_type": "execute_result",
          "data": {
            "text/plain": [
              "<function matplotlib.pyplot.show>"
            ]
          },
          "metadata": {
            "tags": []
          },
          "execution_count": 101
        },
        {
          "output_type": "display_data",
          "data": {
            "image/png": "[encoded data removed]",
            "text/plain": [
              "<Figure size 432x288 with 1 Axes>"
            ]
          },
          "metadata": {
            "tags": [],
            "needs_background": "light"
          }
        }
      ]
    },
    {
      "cell_type": "code",
      "metadata": {
        "colab": {
          "base_uri": "https://localhost:8080/",
          "height": 296
        },
        "id": "LWtmfZ2cV8BK",
        "outputId": "05c25e38-511e-41fe-97de-2e10f9eaaded"
      },
      "source": [
        "plt.xlim(-5,5)\r\n",
        "plt.ylim(-5,5)\r\n",
        "plt.xlabel('x-axis')\r\n",
        "plt.ylabel('y-axis')\r\n",
        "plt.quiver(0,0, vector2[0], vector2[1], angles='xy', scale_units='xy', scale=1, color='darkslategray', label=\"Vector 2\")\r\n",
        "plt.quiver(0,0, r_Vector23[0], r_Vector23[1], angles='xy', scale_units='xy', scale=1, color='goldenrod', label=\"Result\")\r\n",
        "\r\n",
        "plt.legend()\r\n",
        "plt.grid()\r\n",
        "plt.show"
      ],
      "execution_count": null,
      "outputs": [
        {
          "output_type": "execute_result",
          "data": {
            "text/plain": [
              "<function matplotlib.pyplot.show>"
            ]
          },
          "metadata": {
            "tags": []
          },
          "execution_count": 103
        },
        {
          "output_type": "display_data",
          "data": {
            "image/png": "[encoded data removed]",
            "text/plain": [
              "<Figure size 432x288 with 1 Axes>"
            ]
          },
          "metadata": {
            "tags": [],
            "needs_background": "light"
          }
        }
      ]
    },
    {
      "cell_type": "code",
      "metadata": {
        "colab": {
          "base_uri": "https://localhost:8080/",
          "height": 296
        },
        "id": "EFsGvPZoWPk0",
        "outputId": "02e3dcc5-4df2-4771-90e5-ffdff01b8304"
      },
      "source": [
        "plt.xlim(-5,5)\r\n",
        "plt.ylim(-5,5)\r\n",
        "plt.xlabel('x-axis')\r\n",
        "plt.ylabel('y-axis')\r\n",
        "plt.quiver(0,0, vector4[0], vector4[1], angles='xy', scale_units='xy', scale=1, color='indianred', label=\"Vector 4\")\r\n",
        "plt.quiver(0,0, r_Vector25[0], r_Vector25[1], angles='xy', scale_units='xy', scale=1, color='midnightblue', label=\"Result\")\r\n",
        "\r\n",
        "plt.legend()\r\n",
        "plt.grid()\r\n",
        "plt.show"
      ],
      "execution_count": null,
      "outputs": [
        {
          "output_type": "execute_result",
          "data": {
            "text/plain": [
              "<function matplotlib.pyplot.show>"
            ]
          },
          "metadata": {
            "tags": []
          },
          "execution_count": 105
        },
        {
          "output_type": "display_data",
          "data": {
            "image/png": "[encoded data removed]",
            "text/plain": [
              "<Figure size 432x288 with 1 Axes>"
            ]
          },
          "metadata": {
            "tags": [],
            "needs_background": "light"
          }
        }
      ]
    }
  ]
}