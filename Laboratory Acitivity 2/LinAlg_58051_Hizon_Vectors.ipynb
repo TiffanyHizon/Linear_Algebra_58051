{
  "nbformat": 4,
  "nbformat_minor": 0,
  "metadata": {
    "colab": {
      "name": "LinAlg 58051 Hizon - Vectors.ipynb",
      "provenance": [],
      "collapsed_sections": [],
      "authorship_tag": "ABX9TyNlEdtamBnX9Ugr3DPnjAym",
      "include_colab_link": true
    },
    "kernelspec": {
      "name": "python3",
      "display_name": "Python 3"
    }
  },
  "cells": [
    {
      "cell_type": "markdown",
      "metadata": {
        "id": "view-in-github",
        "colab_type": "text"
      },
      "source": [
        "<a href=\"https://colab.research.google.com/github/TiffanyHizon/Linear_Algebra_58051/blob/main/Laboratory%20Acitivity%202/LinAlg_58051_Hizon_Vectors.ipynb\" target=\"_parent\"><img src=\"https://colab.research.google.com/assets/colab-badge.svg\" alt=\"Open In Colab\"/></a>"
      ]
    },
    {
      "cell_type": "markdown",
      "metadata": {
        "id": "aWTGlgby3Atp"
      },
      "source": [
        "**Coding Activity Week 2: Vectors**\r\n",
        "\r\n",
        "\r\n",
        "*   Declare 5 Vectors\r\n",
        "*   Perform the following operations in any combination and any number of trials.\r\n",
        "> Addition, Subtraction\r\n",
        "\r\n",
        "  >   Multiplication, Division\r\n",
        "\r\n",
        "  > Squaring and Square root\r\n",
        "\r\n",
        "  > Summation\r\n",
        "\r\n",
        "\r\n",
        "*   Visualize the vectors\r\n",
        "\r\n",
        "\r\n",
        "\r\n",
        "\r\n",
        "\r\n",
        "\r\n",
        "\r\n",
        "\r\n",
        "\r\n",
        "\r\n",
        "\r\n",
        "\r\n",
        "\r\n",
        "\r\n",
        "\r\n",
        "\r\n",
        "\r\n",
        "\r\n"
      ]
    },
    {
      "cell_type": "code",
      "metadata": {
        "id": "LS3Mh4ZM4ZDF"
      },
      "source": [
        "import numpy as np\r\n",
        "\r\n",
        "vector1 = np.array([1, 5])\r\n",
        "vector2 = np.array([3, 2])\r\n",
        "vector3 = np.array([-1, 3])\r\n",
        "vector4 = np.array([2, 4])\r\n",
        "vector5 = np.array([-2, 1])"
      ],
      "execution_count": 6,
      "outputs": []
    },
    {
      "cell_type": "code",
      "metadata": {
        "id": "4CXQ7wkMcie2"
      },
      "source": [
        "import matplotlib.pyplot as plt"
      ],
      "execution_count": 7,
      "outputs": []
    },
    {
      "cell_type": "markdown",
      "metadata": {
        "id": "eES5ode75-ks"
      },
      "source": [
        "**Operations**"
      ]
    },
    {
      "cell_type": "markdown",
      "metadata": {
        "id": "wiFIieO06DWN"
      },
      "source": [
        "Addition, Substraction"
      ]
    },
    {
      "cell_type": "markdown",
      "metadata": {
        "id": "5bdpD8JNVQzP"
      },
      "source": [
        "\r\n",
        "\r\n",
        "> Eager Execution\r\n",
        "\r\n"
      ]
    },
    {
      "cell_type": "code",
      "metadata": {
        "id": "g1nmlY256HTb",
        "colab": {
          "base_uri": "https://localhost:8080/"
        },
        "outputId": "cfd790f8-a957-4977-8543-20b62a0224c1"
      },
      "source": [
        "r_Vector1 = vector1 + vector2 - vector3\r\n",
        "r_Vector1"
      ],
      "execution_count": 8,
      "outputs": [
        {
          "output_type": "execute_result",
          "data": {
            "text/plain": [
              "array([5, 4])"
            ]
          },
          "metadata": {
            "tags": []
          },
          "execution_count": 8
        }
      ]
    },
    {
      "cell_type": "code",
      "metadata": {
        "id": "zqFASZhyA6yv",
        "colab": {
          "base_uri": "https://localhost:8080/"
        },
        "outputId": "d9b6fb10-5fcc-4da9-cab9-e1648c4d41e2"
      },
      "source": [
        "r_Vector2 = vector4 - vector5 + vector1\r\n",
        "r_Vector2"
      ],
      "execution_count": 9,
      "outputs": [
        {
          "output_type": "execute_result",
          "data": {
            "text/plain": [
              "array([5, 8])"
            ]
          },
          "metadata": {
            "tags": []
          },
          "execution_count": 9
        }
      ]
    },
    {
      "cell_type": "code",
      "metadata": {
        "id": "4CsTMbsGA8iu",
        "colab": {
          "base_uri": "https://localhost:8080/"
        },
        "outputId": "b1a28ccd-3b55-457d-e971-e38fcd91e5dd"
      },
      "source": [
        "r_Vector3 = vector2 + vector4 - vector3\r\n",
        "r_Vector3"
      ],
      "execution_count": 10,
      "outputs": [
        {
          "output_type": "execute_result",
          "data": {
            "text/plain": [
              "array([6, 3])"
            ]
          },
          "metadata": {
            "tags": []
          },
          "execution_count": 10
        }
      ]
    },
    {
      "cell_type": "markdown",
      "metadata": {
        "id": "utkS_Dy9VXws"
      },
      "source": [
        "\r\n",
        "\r\n",
        "> Functional Method\r\n",
        "\r\n"
      ]
    },
    {
      "cell_type": "code",
      "metadata": {
        "id": "sUeQRv_QVb-S",
        "colab": {
          "base_uri": "https://localhost:8080/"
        },
        "outputId": "9196a155-4965-4426-85e5-5e43973c5a96"
      },
      "source": [
        "r_Vector4 = np.add(np.subtract(vector2, vector3), vector1)\r\n",
        "r_Vector4"
      ],
      "execution_count": 11,
      "outputs": [
        {
          "output_type": "execute_result",
          "data": {
            "text/plain": [
              "array([5, 4])"
            ]
          },
          "metadata": {
            "tags": []
          },
          "execution_count": 11
        }
      ]
    },
    {
      "cell_type": "code",
      "metadata": {
        "id": "efUdSr8JVjhJ",
        "colab": {
          "base_uri": "https://localhost:8080/"
        },
        "outputId": "3f631010-022e-4351-a4e9-dbee23f18a9f"
      },
      "source": [
        "r_Vector5 = np.add(np.subtract(vector4, vector5), vector1)\r\n",
        "r_Vector5"
      ],
      "execution_count": 12,
      "outputs": [
        {
          "output_type": "execute_result",
          "data": {
            "text/plain": [
              "array([5, 8])"
            ]
          },
          "metadata": {
            "tags": []
          },
          "execution_count": 12
        }
      ]
    },
    {
      "cell_type": "code",
      "metadata": {
        "id": "fo3eLP9PVv_C",
        "colab": {
          "base_uri": "https://localhost:8080/"
        },
        "outputId": "4da37ba8-f7f7-4f8f-afc9-7e006a011822"
      },
      "source": [
        "r_Vector6 = np.add(np.subtract(vector4, vector3), vector2)\r\n",
        "r_Vector6"
      ],
      "execution_count": 13,
      "outputs": [
        {
          "output_type": "execute_result",
          "data": {
            "text/plain": [
              "array([6, 3])"
            ]
          },
          "metadata": {
            "tags": []
          },
          "execution_count": 13
        }
      ]
    },
    {
      "cell_type": "markdown",
      "metadata": {
        "id": "FbzV-o4ZCTpN"
      },
      "source": [
        "Multiplication, Division"
      ]
    },
    {
      "cell_type": "markdown",
      "metadata": {
        "id": "bhDZ7HVGWAYO"
      },
      "source": [
        "\r\n",
        "\r\n",
        "> Eager Execution\r\n",
        "\r\n"
      ]
    },
    {
      "cell_type": "code",
      "metadata": {
        "id": "Jra45ruMCahk",
        "colab": {
          "base_uri": "https://localhost:8080/"
        },
        "outputId": "c7e44532-55aa-492b-89e0-ad53f470c383"
      },
      "source": [
        "r_Vector7 = vector1 * vector2 / vector3\r\n",
        "r_Vector7"
      ],
      "execution_count": 14,
      "outputs": [
        {
          "output_type": "execute_result",
          "data": {
            "text/plain": [
              "array([-3.        ,  3.33333333])"
            ]
          },
          "metadata": {
            "tags": []
          },
          "execution_count": 14
        }
      ]
    },
    {
      "cell_type": "code",
      "metadata": {
        "id": "XLjjTuOPToXG",
        "colab": {
          "base_uri": "https://localhost:8080/"
        },
        "outputId": "fe41f3e8-96f7-4e04-8b6f-3af05a5e7aef"
      },
      "source": [
        "r_Vector8 = vector4 * vector5 / vector1\r\n",
        "r_Vector8"
      ],
      "execution_count": 15,
      "outputs": [
        {
          "output_type": "execute_result",
          "data": {
            "text/plain": [
              "array([-4. ,  0.8])"
            ]
          },
          "metadata": {
            "tags": []
          },
          "execution_count": 15
        }
      ]
    },
    {
      "cell_type": "code",
      "metadata": {
        "id": "o4Z2wTxrTz9M",
        "colab": {
          "base_uri": "https://localhost:8080/"
        },
        "outputId": "9bb15140-effc-41ea-f637-5728169c02b4"
      },
      "source": [
        "r_Vector9 = vector2 * vector4 / vector3\r\n",
        "r_Vector9"
      ],
      "execution_count": 16,
      "outputs": [
        {
          "output_type": "execute_result",
          "data": {
            "text/plain": [
              "array([-6.        ,  2.66666667])"
            ]
          },
          "metadata": {
            "tags": []
          },
          "execution_count": 16
        }
      ]
    },
    {
      "cell_type": "markdown",
      "metadata": {
        "id": "tuoa7VHhWIiU"
      },
      "source": [
        "\r\n",
        "\r\n",
        "> Functional Method\r\n",
        "\r\n"
      ]
    },
    {
      "cell_type": "code",
      "metadata": {
        "id": "0-ea2jPaWMZ5",
        "colab": {
          "base_uri": "https://localhost:8080/"
        },
        "outputId": "8a0a1aee-b8a4-4153-a3f7-9811606f4e87"
      },
      "source": [
        "r_Vector10 = np.multiply(np.divide(vector2, vector3), vector1)\r\n",
        "r_Vector10"
      ],
      "execution_count": 17,
      "outputs": [
        {
          "output_type": "execute_result",
          "data": {
            "text/plain": [
              "array([-3.        ,  3.33333333])"
            ]
          },
          "metadata": {
            "tags": []
          },
          "execution_count": 17
        }
      ]
    },
    {
      "cell_type": "code",
      "metadata": {
        "id": "vpizUYfxWnDx",
        "colab": {
          "base_uri": "https://localhost:8080/"
        },
        "outputId": "e549c2a6-6a7a-4ab6-a038-8be98c50c757"
      },
      "source": [
        "r_Vector11 = np.multiply(np.divide(vector5, vector1), vector4)\r\n",
        "r_Vector11"
      ],
      "execution_count": 18,
      "outputs": [
        {
          "output_type": "execute_result",
          "data": {
            "text/plain": [
              "array([-4. ,  0.8])"
            ]
          },
          "metadata": {
            "tags": []
          },
          "execution_count": 18
        }
      ]
    },
    {
      "cell_type": "code",
      "metadata": {
        "id": "WbqbUmSkWwmN",
        "colab": {
          "base_uri": "https://localhost:8080/"
        },
        "outputId": "8e51f699-527b-40c9-991b-6576f62c787d"
      },
      "source": [
        "r_Vector12 = np.multiply(np.divide(vector4, vector3), vector2)\r\n",
        "r_Vector12"
      ],
      "execution_count": 19,
      "outputs": [
        {
          "output_type": "execute_result",
          "data": {
            "text/plain": [
              "array([-6.        ,  2.66666667])"
            ]
          },
          "metadata": {
            "tags": []
          },
          "execution_count": 19
        }
      ]
    },
    {
      "cell_type": "markdown",
      "metadata": {
        "id": "skjsd62BT9CJ"
      },
      "source": [
        "Squaring and Square root"
      ]
    },
    {
      "cell_type": "markdown",
      "metadata": {
        "id": "my7Fdu6XY8wC"
      },
      "source": [
        "\r\n",
        "\r\n",
        "> Eager Execution\r\n",
        "\r\n"
      ]
    },
    {
      "cell_type": "code",
      "metadata": {
        "id": "vVLELza1UByF",
        "colab": {
          "base_uri": "https://localhost:8080/"
        },
        "outputId": "1349a5f9-898c-421c-c399-88a007a3439a"
      },
      "source": [
        "r_Vector12 = vector1**2\r\n",
        "r_Vector12"
      ],
      "execution_count": 20,
      "outputs": [
        {
          "output_type": "execute_result",
          "data": {
            "text/plain": [
              "array([ 1, 25])"
            ]
          },
          "metadata": {
            "tags": []
          },
          "execution_count": 20
        }
      ]
    },
    {
      "cell_type": "code",
      "metadata": {
        "id": "gVsUnp5qZK1H",
        "colab": {
          "base_uri": "https://localhost:8080/"
        },
        "outputId": "ce5666e6-16f5-410b-848f-5b695158b303"
      },
      "source": [
        "r_Vector13 = vector2**2\r\n",
        "r_Vector13"
      ],
      "execution_count": 21,
      "outputs": [
        {
          "output_type": "execute_result",
          "data": {
            "text/plain": [
              "array([9, 4])"
            ]
          },
          "metadata": {
            "tags": []
          },
          "execution_count": 21
        }
      ]
    },
    {
      "cell_type": "code",
      "metadata": {
        "id": "fBUZp-l3ZP5H",
        "colab": {
          "base_uri": "https://localhost:8080/"
        },
        "outputId": "fa9436c4-3028-4a96-8fd5-1fcad7d0f730"
      },
      "source": [
        "r_Vector14 = vector3**2\r\n",
        "r_Vector14"
      ],
      "execution_count": 22,
      "outputs": [
        {
          "output_type": "execute_result",
          "data": {
            "text/plain": [
              "array([1, 9])"
            ]
          },
          "metadata": {
            "tags": []
          },
          "execution_count": 22
        }
      ]
    },
    {
      "cell_type": "code",
      "metadata": {
        "id": "CqtfHErJZV8o",
        "colab": {
          "base_uri": "https://localhost:8080/"
        },
        "outputId": "07b36d36-3c26-4425-8590-58a8bb90e2d5"
      },
      "source": [
        "r_Vector15 = vector4**2\r\n",
        "r_Vector15"
      ],
      "execution_count": 23,
      "outputs": [
        {
          "output_type": "execute_result",
          "data": {
            "text/plain": [
              "array([ 4, 16])"
            ]
          },
          "metadata": {
            "tags": []
          },
          "execution_count": 23
        }
      ]
    },
    {
      "cell_type": "code",
      "metadata": {
        "id": "9M9g-efwZe5g",
        "colab": {
          "base_uri": "https://localhost:8080/"
        },
        "outputId": "cf8448fa-ebaa-4265-f41e-ef8419eabcac"
      },
      "source": [
        "r_Vector16 = vector5**2\r\n",
        "r_Vector16"
      ],
      "execution_count": 24,
      "outputs": [
        {
          "output_type": "execute_result",
          "data": {
            "text/plain": [
              "array([4, 1])"
            ]
          },
          "metadata": {
            "tags": []
          },
          "execution_count": 24
        }
      ]
    },
    {
      "cell_type": "markdown",
      "metadata": {
        "id": "cEdvhdbLZo0j"
      },
      "source": [
        "\r\n",
        "\r\n",
        "> Functional Method\r\n",
        "\r\n"
      ]
    },
    {
      "cell_type": "code",
      "metadata": {
        "id": "E31GkQMHZsGQ",
        "colab": {
          "base_uri": "https://localhost:8080/"
        },
        "outputId": "7f6b301b-39df-47b7-d9cb-a98b06ed803b"
      },
      "source": [
        "r_Vector17 = np.square(vector1)\r\n",
        "r_Vector17"
      ],
      "execution_count": 25,
      "outputs": [
        {
          "output_type": "execute_result",
          "data": {
            "text/plain": [
              "array([ 1, 25])"
            ]
          },
          "metadata": {
            "tags": []
          },
          "execution_count": 25
        }
      ]
    },
    {
      "cell_type": "code",
      "metadata": {
        "id": "pb6aX0xvZzHZ",
        "colab": {
          "base_uri": "https://localhost:8080/"
        },
        "outputId": "bcd667ef-d888-4cef-fc43-35a8ef4a9ee6"
      },
      "source": [
        "r_Vector18 = np.square(vector2)\r\n",
        "r_Vector18"
      ],
      "execution_count": 26,
      "outputs": [
        {
          "output_type": "execute_result",
          "data": {
            "text/plain": [
              "array([9, 4])"
            ]
          },
          "metadata": {
            "tags": []
          },
          "execution_count": 26
        }
      ]
    },
    {
      "cell_type": "code",
      "metadata": {
        "id": "i3zRTCoFZy3Y",
        "colab": {
          "base_uri": "https://localhost:8080/"
        },
        "outputId": "63a85762-170e-471c-e451-f9b8fc954af7"
      },
      "source": [
        "r_Vector19 = np.square(vector3)\r\n",
        "r_Vector19"
      ],
      "execution_count": 27,
      "outputs": [
        {
          "output_type": "execute_result",
          "data": {
            "text/plain": [
              "array([1, 9])"
            ]
          },
          "metadata": {
            "tags": []
          },
          "execution_count": 27
        }
      ]
    },
    {
      "cell_type": "code",
      "metadata": {
        "id": "VDebc0pzZyop",
        "colab": {
          "base_uri": "https://localhost:8080/"
        },
        "outputId": "8221dec5-37d1-484b-97fe-191f5c132ad9"
      },
      "source": [
        "r_Vector20 = np.square(vector4)\r\n",
        "r_Vector20"
      ],
      "execution_count": 28,
      "outputs": [
        {
          "output_type": "execute_result",
          "data": {
            "text/plain": [
              "array([ 4, 16])"
            ]
          },
          "metadata": {
            "tags": []
          },
          "execution_count": 28
        }
      ]
    },
    {
      "cell_type": "code",
      "metadata": {
        "id": "59or7hdtZyb9",
        "colab": {
          "base_uri": "https://localhost:8080/"
        },
        "outputId": "85ff6ed2-51fc-4d16-ef40-d4a907d6339c"
      },
      "source": [
        "r_Vector21 = np.square(vector5)\r\n",
        "r_Vector21"
      ],
      "execution_count": 29,
      "outputs": [
        {
          "output_type": "execute_result",
          "data": {
            "text/plain": [
              "array([4, 1])"
            ]
          },
          "metadata": {
            "tags": []
          },
          "execution_count": 29
        }
      ]
    },
    {
      "cell_type": "code",
      "metadata": {
        "id": "qGtJ0pThb5Fj",
        "colab": {
          "base_uri": "https://localhost:8080/"
        },
        "outputId": "b88ac791-30f1-4afc-a41a-2cea36276f0e"
      },
      "source": [
        "r_Vector22 = np.sqrt(vector1)\r\n",
        "r_Vector22"
      ],
      "execution_count": 30,
      "outputs": [
        {
          "output_type": "execute_result",
          "data": {
            "text/plain": [
              "array([1.        , 2.23606798])"
            ]
          },
          "metadata": {
            "tags": []
          },
          "execution_count": 30
        }
      ]
    },
    {
      "cell_type": "code",
      "metadata": {
        "id": "7E0P2XmjcBB_",
        "colab": {
          "base_uri": "https://localhost:8080/"
        },
        "outputId": "091adca7-148e-48bd-d46f-0154043ead4c"
      },
      "source": [
        "r_Vector23 = np.sqrt(vector2)\r\n",
        "r_Vector23"
      ],
      "execution_count": 31,
      "outputs": [
        {
          "output_type": "execute_result",
          "data": {
            "text/plain": [
              "array([1.73205081, 1.41421356])"
            ]
          },
          "metadata": {
            "tags": []
          },
          "execution_count": 31
        }
      ]
    },
    {
      "cell_type": "code",
      "metadata": {
        "id": "S2OHLW7zcAkP",
        "colab": {
          "base_uri": "https://localhost:8080/"
        },
        "outputId": "5f91bd60-3105-45f7-f052-2648e02f1df0"
      },
      "source": [
        "r_Vector25 = np.sqrt(vector4)\r\n",
        "r_Vector25"
      ],
      "execution_count": 32,
      "outputs": [
        {
          "output_type": "execute_result",
          "data": {
            "text/plain": [
              "array([1.41421356, 2.        ])"
            ]
          },
          "metadata": {
            "tags": []
          },
          "execution_count": 32
        }
      ]
    },
    {
      "cell_type": "markdown",
      "metadata": {
        "id": "3VGSBSzkaO_L"
      },
      "source": [
        "Summation"
      ]
    },
    {
      "cell_type": "code",
      "metadata": {
        "id": "La1tgmYYavCC",
        "colab": {
          "base_uri": "https://localhost:8080/"
        },
        "outputId": "bd98b7c3-7c23-4c8e-f926-dca809ea38db"
      },
      "source": [
        "r_Vector27 = np.sum(vector1)\r\n",
        "r_Vector27"
      ],
      "execution_count": 33,
      "outputs": [
        {
          "output_type": "execute_result",
          "data": {
            "text/plain": [
              "6"
            ]
          },
          "metadata": {
            "tags": []
          },
          "execution_count": 33
        }
      ]
    },
    {
      "cell_type": "code",
      "metadata": {
        "id": "_XJItMD0a0mr",
        "colab": {
          "base_uri": "https://localhost:8080/"
        },
        "outputId": "8a2d621d-c428-47ca-d0e5-9e7d3a12a1a9"
      },
      "source": [
        "r_Vector28 = np.sum(vector2)\r\n",
        "r_Vector28"
      ],
      "execution_count": 34,
      "outputs": [
        {
          "output_type": "execute_result",
          "data": {
            "text/plain": [
              "5"
            ]
          },
          "metadata": {
            "tags": []
          },
          "execution_count": 34
        }
      ]
    },
    {
      "cell_type": "code",
      "metadata": {
        "id": "ElTWDvzfa0Pu",
        "colab": {
          "base_uri": "https://localhost:8080/"
        },
        "outputId": "e3756ea1-92dc-490b-9f37-18031704ecdb"
      },
      "source": [
        "r_Vector29 = np.sum(vector3)\r\n",
        "r_Vector29"
      ],
      "execution_count": 35,
      "outputs": [
        {
          "output_type": "execute_result",
          "data": {
            "text/plain": [
              "2"
            ]
          },
          "metadata": {
            "tags": []
          },
          "execution_count": 35
        }
      ]
    },
    {
      "cell_type": "code",
      "metadata": {
        "id": "keRBmBVpa0EQ",
        "colab": {
          "base_uri": "https://localhost:8080/"
        },
        "outputId": "7c1ee0d1-2217-4c47-cbc1-95ff0ce3294c"
      },
      "source": [
        "r_Vector30 = np.sum(vector4)\r\n",
        "r_Vector30"
      ],
      "execution_count": 36,
      "outputs": [
        {
          "output_type": "execute_result",
          "data": {
            "text/plain": [
              "6"
            ]
          },
          "metadata": {
            "tags": []
          },
          "execution_count": 36
        }
      ]
    },
    {
      "cell_type": "code",
      "metadata": {
        "id": "QRmQ55xCaz-J",
        "colab": {
          "base_uri": "https://localhost:8080/"
        },
        "outputId": "37672e80-f2c3-46cf-d368-9c26c69cf5e8"
      },
      "source": [
        "r_Vector31 = np.sum(vector5)\r\n",
        "r_Vector31"
      ],
      "execution_count": 37,
      "outputs": [
        {
          "output_type": "execute_result",
          "data": {
            "text/plain": [
              "-1"
            ]
          },
          "metadata": {
            "tags": []
          },
          "execution_count": 37
        }
      ]
    },
    {
      "cell_type": "markdown",
      "metadata": {
        "id": "49KkjGsc_zy_"
      },
      "source": [
        "**Visualizing Vectors**"
      ]
    },
    {
      "cell_type": "markdown",
      "metadata": {
        "id": "ei_baaB-QwkW"
      },
      "source": [
        "\r\n",
        "\r\n",
        "> Additon, Subtraction\r\n",
        "\r\n"
      ]
    },
    {
      "cell_type": "code",
      "metadata": {
        "colab": {
          "base_uri": "https://localhost:8080/",
          "height": 300
        },
        "id": "X9X3s3Na_2dz",
        "outputId": "30025b94-a058-4d60-f52f-e072eca24225"
      },
      "source": [
        "results = np.add(vector1, vector2)\r\n",
        "\r\n",
        "plt.xlim(-8,8)\r\n",
        "plt.ylim(-5,8)\r\n",
        "plt.xlabel('x-axis')\r\n",
        "plt.ylabel('y-axis')\r\n",
        "plt.quiver(0,0, vector1[0], vector1[1], angles='xy', scale_units='xy', scale=1, color='darkslategray', label=\"Vector 1\")\r\n",
        "plt.quiver(vector1[0],vector1[1], vector2[0], vector2[1], angles='xy', scale_units='xy', scale=1, color='darkslateblue', label=\"Vector 2\")\r\n",
        "plt.quiver(results[0], results[1], vector3[0], vector3[1], angles='xy', scale_units='xy', scale=1, color='salmon', label=\"Vector 3\")\r\n",
        "plt.quiver(0,0, r_Vector1[0], r_Vector1[1], angles='xy', scale_units='xy', scale=1, color='goldenrod', label=\"Result\")\r\n",
        "\r\n",
        "plt.legend()\r\n",
        "plt.grid()\r\n",
        "plt.show"
      ],
      "execution_count": 38,
      "outputs": [
        {
          "output_type": "execute_result",
          "data": {
            "text/plain": [
              "<function matplotlib.pyplot.show>"
            ]
          },
          "metadata": {
            "tags": []
          },
          "execution_count": 38
        },
        {
          "output_type": "display_data",
          "data": {
            "image/png": "[encoded data removed]",
            "text/plain": [
              "<Figure size 432x288 with 1 Axes>"
            ]
          },
          "metadata": {
            "tags": [],
            "needs_background": "light"
          }
        }
      ]
    },
    {
      "cell_type": "code",
      "metadata": {
        "colab": {
          "base_uri": "https://localhost:8080/",
          "height": 300
        },
        "id": "LGJy-6G8IPgW",
        "outputId": "67981501-2c25-4af1-e012-476ae2b183a3"
      },
      "source": [
        "results = np.add(vector4, vector5)\r\n",
        "\r\n",
        "plt.xlim(-10,10)\r\n",
        "plt.ylim(-7,10)\r\n",
        "plt.xlabel('x-axis')\r\n",
        "plt.ylabel('y-axis')\r\n",
        "\r\n",
        "plt.quiver(0,0, vector4[0], vector4[1], angles='xy', scale_units='xy', scale=1, color='mediumseagreen', label=\"Vector 4\")\r\n",
        "plt.quiver(vector4[0], vector4[1], vector5[0], vector5[1], angles='xy', scale_units='xy', scale=1, color='hotpink', label=\"Vector 5\")\r\n",
        "plt.quiver(results[0], results[1], vector1[0], vector1[1], angles='xy', scale_units='xy', scale=1, color='darkorange', label=\"Vector 1\")\r\n",
        "plt.quiver(0,0, r_Vector2[0], r_Vector2[1], angles='xy', scale_units='xy', scale=1, color='darkred', label=\"Result\")\r\n",
        "\r\n",
        "plt.legend()\r\n",
        "plt.grid()\r\n",
        "plt.show"
      ],
      "execution_count": 53,
      "outputs": [
        {
          "output_type": "execute_result",
          "data": {
            "text/plain": [
              "<function matplotlib.pyplot.show>"
            ]
          },
          "metadata": {
            "tags": []
          },
          "execution_count": 53
        },
        {
          "output_type": "display_data",
          "data": {
            "image/png": "[encoded data removed]",
            "text/plain": [
              "<Figure size 432x288 with 1 Axes>"
            ]
          },
          "metadata": {
            "tags": [],
            "needs_background": "light"
          }
        }
      ]
    },
    {
      "cell_type": "code",
      "metadata": {
        "colab": {
          "base_uri": "https://localhost:8080/",
          "height": 300
        },
        "id": "E5Ht4VArKCmF",
        "outputId": "6f6cdbe7-c624-4dfc-90b6-381699ae5ac8"
      },
      "source": [
        "results = np.add(vector2, vector4)\r\n",
        "\r\n",
        "plt.xlim(-7,10)\r\n",
        "plt.ylim(-10,10)\r\n",
        "plt.xlabel('x-axis')\r\n",
        "plt.ylabel('y-axis')\r\n",
        "\r\n",
        "plt.quiver(0,0, vector2[0], vector2[1], angles='xy', scale_units='xy', scale=1, color='darkturquoise', label=\"Vector 2\")\r\n",
        "plt.quiver(vector2[0], vector2[1], vector4[0], vector4[1], angles='xy', scale_units='xy', scale=1, color='olivedrab', label=\"Vector 4\")\r\n",
        "plt.quiver(results[0], results[1], vector3[0], vector3[1], angles='xy', scale_units='xy', scale=1, color='saddlebrown', label=\"Vector 3\")\r\n",
        "plt.quiver(0,0, r_Vector3[0], r_Vector3[1], angles='xy', scale_units='xy', scale=1, color='indigo', label=\"Result\")\r\n",
        "\r\n",
        "plt.legend()\r\n",
        "plt.grid()\r\n",
        "plt.show"
      ],
      "execution_count": 55,
      "outputs": [
        {
          "output_type": "execute_result",
          "data": {
            "text/plain": [
              "<function matplotlib.pyplot.show>"
            ]
          },
          "metadata": {
            "tags": []
          },
          "execution_count": 55
        },
        {
          "output_type": "display_data",
          "data": {
            "image/png": "[encoded data removed]",
            "text/plain": [
              "<Figure size 432x288 with 1 Axes>"
            ]
          },
          "metadata": {
            "tags": [],
            "needs_background": "light"
          }
        }
      ]
    },
    {
      "cell_type": "markdown",
      "metadata": {
        "id": "tzzq6nkiQ4Eb"
      },
      "source": [
        "\r\n",
        "\r\n",
        "> Multiplication, Division\r\n",
        "\r\n"
      ]
    },
    {
      "cell_type": "code",
      "metadata": {
        "colab": {
          "base_uri": "https://localhost:8080/",
          "height": 300
        },
        "id": "MwPStD7kQ-U_",
        "outputId": "954ccdea-99f0-4653-e541-e389507e4e94"
      },
      "source": [
        "results = np.add(vector1, vector2)\r\n",
        "\r\n",
        "plt.xlim(-10,10)\r\n",
        "plt.ylim(-7,10)\r\n",
        "plt.xlabel('x-axis')\r\n",
        "plt.ylabel('y-axis')\r\n",
        "\r\n",
        "plt.quiver(0,0, vector1[0], vector1[1], angles='xy', scale_units='xy', scale=1, color='mediumseagreen', label=\"Vector 1\")\r\n",
        "plt.quiver(vector1[0], vector1[1], vector2[0], vector2[1], angles='xy', scale_units='xy', scale=1, color='hotpink', label=\"Vector 2\")\r\n",
        "plt.quiver(results[0], results[1], vector3[0], vector3[1], angles='xy', scale_units='xy', scale=1, color='darkorange', label=\"Vector 3\")\r\n",
        "plt.quiver(0,0, r_Vector7[0], r_Vector7[1], angles='xy', scale_units='xy', scale=1, color='darkred', label=\"Result\")\r\n",
        "\r\n",
        "plt.legend()\r\n",
        "plt.grid()\r\n",
        "plt.show"
      ],
      "execution_count": 56,
      "outputs": [
        {
          "output_type": "execute_result",
          "data": {
            "text/plain": [
              "<function matplotlib.pyplot.show>"
            ]
          },
          "metadata": {
            "tags": []
          },
          "execution_count": 56
        },
        {
          "output_type": "display_data",
          "data": {
            "image/png": "[encoded data removed]",
            "text/plain": [
              "<Figure size 432x288 with 1 Axes>"
            ]
          },
          "metadata": {
            "tags": [],
            "needs_background": "light"
          }
        }
      ]
    },
    {
      "cell_type": "code",
      "metadata": {
        "colab": {
          "base_uri": "https://localhost:8080/",
          "height": 300
        },
        "id": "UG8LsTL5Retg",
        "outputId": "63e72ea5-00da-4dc4-d7fd-b15a9e3916a2"
      },
      "source": [
        "results = np.add(vector4, vector5)\r\n",
        "\r\n",
        "plt.xlim(-10,10)\r\n",
        "plt.ylim(-7,10)\r\n",
        "plt.xlabel('x-axis')\r\n",
        "plt.ylabel('y-axis')\r\n",
        "\r\n",
        "plt.quiver(0,0, vector4[0], vector4[1], angles='xy', scale_units='xy', scale=1, color='forestgreen', label=\"Vector 4\")\r\n",
        "plt.quiver(vector4[0], vector4[1], vector5[0], vector5[1], angles='xy', scale_units='xy', scale=1, color='maroon', label=\"Vector 5\")\r\n",
        "plt.quiver(results[0], results[1], vector1[0], vector1[1], angles='xy', scale_units='xy', scale=1, color='crimson', label=\"Vector 1\")\r\n",
        "plt.quiver(0,0, r_Vector8[0], r_Vector8[1], angles='xy', scale_units='xy', scale=1, color='skyblue', label=\"Result\")\r\n",
        "\r\n",
        "plt.legend()\r\n",
        "plt.grid()\r\n",
        "plt.show"
      ],
      "execution_count": 57,
      "outputs": [
        {
          "output_type": "execute_result",
          "data": {
            "text/plain": [
              "<function matplotlib.pyplot.show>"
            ]
          },
          "metadata": {
            "tags": []
          },
          "execution_count": 57
        },
        {
          "output_type": "display_data",
          "data": {
            "image/png": "[encoded data removed]",
            "text/plain": [
              "<Figure size 432x288 with 1 Axes>"
            ]
          },
          "metadata": {
            "tags": [],
            "needs_background": "light"
          }
        }
      ]
    },
    {
      "cell_type": "code",
      "metadata": {
        "colab": {
          "base_uri": "https://localhost:8080/",
          "height": 300
        },
        "id": "3lW8Yi7PRqEA",
        "outputId": "41167607-c0ff-4c8b-eccf-60b351eff803"
      },
      "source": [
        "results = np.add(vector2, vector4)\r\n",
        "\r\n",
        "plt.xlim(-10,10)\r\n",
        "plt.ylim(-7,10)\r\n",
        "plt.xlabel('x-axis')\r\n",
        "plt.ylabel('y-axis')\r\n",
        "\r\n",
        "plt.quiver(0,0, vector2[0], vector2[1], angles='xy', scale_units='xy', scale=1, color='thistle', label=\"Vector 2\")\r\n",
        "plt.quiver(vector2[0], vector2[1], vector4[0], vector4[1], angles='xy', scale_units='xy', scale=1, color='darkcyan', label=\"Vector 4\")\r\n",
        "plt.quiver(results[0], results[1], vector3[0], vector3[1], angles='xy', scale_units='xy', scale=1, color='peru', label=\"Vector 3\")\r\n",
        "plt.quiver(0,0, r_Vector9[0], r_Vector9[1], angles='xy', scale_units='xy', scale=1, color='rosybrown', label=\"Result\")\r\n",
        "\r\n",
        "plt.legend()\r\n",
        "plt.grid()\r\n",
        "plt.show"
      ],
      "execution_count": 58,
      "outputs": [
        {
          "output_type": "execute_result",
          "data": {
            "text/plain": [
              "<function matplotlib.pyplot.show>"
            ]
          },
          "metadata": {
            "tags": []
          },
          "execution_count": 58
        },
        {
          "output_type": "display_data",
          "data": {
            "image/png": "[encoded data removed]",
            "text/plain": [
              "<Figure size 432x288 with 1 Axes>"
            ]
          },
          "metadata": {
            "tags": [],
            "needs_background": "light"
          }
        }
      ]
    }
  ]
}