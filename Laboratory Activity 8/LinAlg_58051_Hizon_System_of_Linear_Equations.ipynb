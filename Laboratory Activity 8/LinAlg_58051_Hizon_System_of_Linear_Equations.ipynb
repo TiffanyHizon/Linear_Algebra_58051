{
  "nbformat": 4,
  "nbformat_minor": 0,
  "metadata": {
    "colab": {
      "name": "LinAlg 58051 Hizon - System of Linear Equations.ipynb",
      "provenance": [],
      "collapsed_sections": [],
      "authorship_tag": "ABX9TyMH4InTeEnMLJ+qGHffXs2Z",
      "include_colab_link": true
    },
    "kernelspec": {
      "name": "python3",
      "display_name": "Python 3"
    },
    "language_info": {
      "name": "python"
    }
  },
  "cells": [
    {
      "cell_type": "markdown",
      "metadata": {
        "id": "view-in-github",
        "colab_type": "text"
      },
      "source": [
        "<a href=\"https://colab.research.google.com/github/TiffanyHizon/Linear_Algebra_58051/blob/main/Laboratory%20Activity%208/LinAlg_58051_Hizon_System_of_Linear_Equations.ipynb\" target=\"_parent\"><img src=\"https://colab.research.google.com/assets/colab-badge.svg\" alt=\"Open In Colab\"/></a>"
      ]
    },
    {
      "cell_type": "markdown",
      "metadata": {
        "id": "oCQVdF6L1hCT"
      },
      "source": [
        "# **Exercise**\n",
        "1. Try to find your own example of a system of linear equations (minimum of 2 equations) and solve them using the inverse equation. Explain the details of your example.\n",
        "2. Using your example in (1) solve it using `np.linalg.solve()`. Explain the function and its difference using the inverse equation."
      ]
    },
    {
      "cell_type": "markdown",
      "metadata": {
        "id": "FzJcgXj81kzr"
      },
      "source": [
        "Given the cost function C(x) and the revenue function R(x) for the two months, find break even point. \n",
        "\n",
        "$$\n",
        "C(x)_{Month 1} = 20x + 5000 \\\\\n",
        "C(x)_{Month 2} = 50x + 1000 \\\\\n",
        "R(x)_{Month 1} = 25x \\\\\n",
        "R(x)_{Month 2} = 65x\n",
        " $$\n"
      ]
    },
    {
      "cell_type": "markdown",
      "metadata": {
        "id": "RPbjv2nuhVn1"
      },
      "source": [
        "$$\\begin{bmatrix}20&5,000 \\\\ 50&1,000\\end{bmatrix} = \\begin{bmatrix}25\\\\65\\end{bmatrix}$$\n",
        " "
      ]
    },
    {
      "cell_type": "markdown",
      "metadata": {
        "id": "9F4AErJZdQMF"
      },
      "source": [
        "\n",
        "\n",
        "> **Steps to follow:**\n",
        "\n",
        "\n",
        "1.   Understand the problem\n",
        "2.   Understand the data or functions\n",
        "3. Do the tranformations or modelling\n",
        "4. Simulate\n",
        "5. Get the answers\n",
        "6. Verify the answers\n",
        "\n",
        "\n"
      ]
    },
    {
      "cell_type": "code",
      "metadata": {
        "id": "qGel22CLd_B3"
      },
      "source": [
        "import numpy as np\n",
        "import matplotlib.pyplot as plt"
      ],
      "execution_count": null,
      "outputs": []
    },
    {
      "cell_type": "code",
      "metadata": {
        "id": "qllS_kJ-fNjb"
      },
      "source": [
        "cost = np.array([\n",
        "                 [20, 5000],\n",
        "                 [50, 1000]\n",
        "                 ])\n",
        "\n",
        "revenue = np.array([\n",
        "                    [25],\n",
        "                    [65]\n",
        "                  ])"
      ],
      "execution_count": null,
      "outputs": []
    },
    {
      "cell_type": "code",
      "metadata": {
        "colab": {
          "base_uri": "https://localhost:8080/"
        },
        "id": "qOErnthJfqhp",
        "outputId": "ddb51e2c-16cc-4a29-defa-b11368836a3c"
      },
      "source": [
        "units = np.linalg.inv(cost)@revenue\n",
        "print(\"The units required to reach the break-even is: {:.2f}\" .format(float(units[0])))"
      ],
      "execution_count": null,
      "outputs": [
        {
          "output_type": "stream",
          "text": [
            "The units required to reach the break even is: 1.30\n"
          ],
          "name": "stdout"
        }
      ]
    },
    {
      "cell_type": "code",
      "metadata": {
        "colab": {
          "base_uri": "https://localhost:8080/"
        },
        "id": "4cyks3IuohgV",
        "outputId": "2fc89ce6-6a64-41d5-ce51-56220103e245"
      },
      "source": [
        "verify_Unit = np.linalg.solve(cost, revenue)\n",
        "print(\"Verifying the break-even point: {:.2f}\" .format(float(verify_Unit[0])))"
      ],
      "execution_count": null,
      "outputs": [
        {
          "output_type": "stream",
          "text": [
            "Verifying the break-even point: 1.30\n"
          ],
          "name": "stdout"
        }
      ]
    },
    {
      "cell_type": "code",
      "metadata": {
        "colab": {
          "base_uri": "https://localhost:8080/",
          "height": 324
        },
        "id": "DTTv1g_XpKa8",
        "outputId": "8d43208e-917f-43ac-ac67-ed728d372426"
      },
      "source": [
        "plt.figure(figsize=(5,5))\n",
        "plt.xlim(0, 5)\n",
        "plt.ylim(0, 5)\n",
        "\n",
        "range = np.arange(0, 20)\n",
        "plt.plot(range*cost[0, 0], range*cost[0,1], range*cost[1, 0], range*cost[1, 1], label='Cost', color='darkblue')\n",
        "plt.plot(range*revenue[0], range*revenue[1], label=\"Revenue\", color='red')\n",
        "\n",
        "plt.grid()\n",
        "plt.legend()\n",
        "plt.show()"
      ],
      "execution_count": null,
      "outputs": [
        {
          "output_type": "display_data",
          "data": {
            "image/png": "[encoded data removed]",
            "text/plain": [
              "<Figure size 360x360 with 1 Axes>"
            ]
          },
          "metadata": {
            "tags": [],
            "needs_background": "light"
          }
        }
      ]
    }
  ]
}