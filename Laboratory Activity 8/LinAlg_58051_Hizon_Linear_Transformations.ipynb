{
  "nbformat": 4,
  "nbformat_minor": 0,
  "metadata": {
    "colab": {
      "name": "LinAlg 58051 Hizon - Linear Transformations.ipynb",
      "provenance": [],
      "collapsed_sections": [
        "52RXBFjHDFnO",
        "Z7nKTbKkA6T2",
        "gfL7_bLECkYy",
        "Nv8pbj21E741",
        "ymUchDuxFdRN"
      ],
      "authorship_tag": "ABX9TyPuvIEE0CINvFrQgDiFwies",
      "include_colab_link": true
    },
    "kernelspec": {
      "name": "python3",
      "display_name": "Python 3"
    },
    "language_info": {
      "name": "python"
    }
  },
  "cells": [
    {
      "cell_type": "markdown",
      "metadata": {
        "id": "view-in-github",
        "colab_type": "text"
      },
      "source": [
        "<a href=\"https://colab.research.google.com/github/TiffanyHizon/Linear_Algebra_58051/blob/main/Laboratory%20Activity%208/LinAlg_58051_Hizon_Linear_Transformations.ipynb\" target=\"_parent\"><img src=\"https://colab.research.google.com/assets/colab-badge.svg\" alt=\"Open In Colab\"/></a>"
      ]
    },
    {
      "cell_type": "markdown",
      "metadata": {
        "id": "ObcPDmJL_SbF"
      },
      "source": [
        "# **Activity**\n",
        "\n",
        "Try to implement the linear transformations using spancs using the scatteplot view. Just do at least one example of linear transformation for a 2D space."
      ]
    },
    {
      "cell_type": "code",
      "metadata": {
        "id": "RHTN7gEl_b3u"
      },
      "source": [
        "import numpy as np\n",
        "import matplotlib.pyplot as plt"
      ],
      "execution_count": null,
      "outputs": []
    },
    {
      "cell_type": "code",
      "metadata": {
        "id": "6f2ud2F3U4Yy"
      },
      "source": [
        "matrix_1 = np.array([\n",
        "                     [1, 2],\n",
        "                     [-3, 1]\n",
        "                    ])"
      ],
      "execution_count": null,
      "outputs": []
    },
    {
      "cell_type": "markdown",
      "metadata": {
        "id": "52RXBFjHDFnO"
      },
      "source": [
        "## **Geometric Translation**"
      ]
    },
    {
      "cell_type": "code",
      "metadata": {
        "colab": {
          "base_uri": "https://localhost:8080/"
        },
        "id": "dazi7Eah72Yr",
        "outputId": "fbef5ba1-cd90-4e0c-fbdd-fe09592c656f"
      },
      "source": [
        "plt.xlim(-3, 3)\n",
        "plt.ylim(-3, 3)\n",
        "\n",
        "range = np.arange(0,1,0.20)\n",
        "plt.scatter(range*matrix_1[0,0], range*matrix_1[1, 0], color='darkcyan', marker='d')\n",
        "plt.scatter(range*matrix_1[0,1], range*matrix_1[1, 1], color='saddlebrown', marker='d')\n",
        "\n",
        "plt.grid()\n",
        "plt.show()"
      ],
      "execution_count": null,
      "outputs": [
        {
          "output_type": "display_data",
          "data": {
            "image/png": "[encoded data removed]",
            "text/plain": [
              "<Figure size 432x288 with 1 Axes>"
            ]
          },
          "metadata": {
            "tags": [],
            "needs_background": "light"
          }
        }
      ]
    },
    {
      "cell_type": "markdown",
      "metadata": {
        "id": "Z7nKTbKkA6T2"
      },
      "source": [
        "## **Repositioning/Translation**"
      ]
    },
    {
      "cell_type": "code",
      "metadata": {
        "id": "4ir_tjVGA_fL"
      },
      "source": [
        "repositioned_Matrix = np.array([\n",
        "                                [-1, -2],\n",
        "                                [3, -1]\n",
        "                              ])"
      ],
      "execution_count": null,
      "outputs": []
    },
    {
      "cell_type": "code",
      "metadata": {
        "colab": {
          "base_uri": "https://localhost:8080/"
        },
        "id": "ZKE2v-9wB09l",
        "outputId": "b918686e-524a-4a47-d3ce-6cf9f201307a"
      },
      "source": [
        "plt.xlim(-3, 3)\n",
        "plt.ylim(-3, 3)\n",
        "\n",
        "result = matrix_1 @ repositioned_Matrix\n",
        "range = np.arange(0,1,0.20)\n",
        "plt.scatter(range*result[0,0], range*result[1, 0], color='darkcyan', marker='^')\n",
        "plt.scatter(range*result[0,1], range*result[1, 1], color='saddlebrown', marker='^')\n",
        "\n",
        "plt.grid()\n",
        "plt.show()"
      ],
      "execution_count": null,
      "outputs": [
        {
          "output_type": "display_data",
          "data": {
            "image/png": "[encoded data removed]",
            "text/plain": [
              "<Figure size 432x288 with 1 Axes>"
            ]
          },
          "metadata": {
            "tags": [],
            "needs_background": "light"
          }
        }
      ]
    },
    {
      "cell_type": "markdown",
      "metadata": {
        "id": "gfL7_bLECkYy"
      },
      "source": [
        "## **Shears**"
      ]
    },
    {
      "cell_type": "code",
      "metadata": {
        "id": "S3a6na8HCnqD"
      },
      "source": [
        "shear = np.array([\n",
        "                  [1, 1],\n",
        "                  [1, 2]\n",
        "                ])"
      ],
      "execution_count": null,
      "outputs": []
    },
    {
      "cell_type": "code",
      "metadata": {
        "colab": {
          "base_uri": "https://localhost:8080/"
        },
        "id": "gy-133wqEvxl",
        "outputId": "4b15c273-d7c9-4a56-ed9e-b032a8d98eff"
      },
      "source": [
        "plt.xlim(-3, 3)\n",
        "plt.ylim(-3, 3)\n",
        "\n",
        "result = matrix_1 @ shear\n",
        "range = np.arange(0,1,0.20)\n",
        "plt.scatter(range*result[0,0], range*result[1, 0], color='darkgreen', marker='o')\n",
        "plt.scatter(range*result[0,1], range*result[1, 1], color='coral', marker='o')\n",
        "\n",
        "plt.grid()\n",
        "plt.show()"
      ],
      "execution_count": null,
      "outputs": [
        {
          "output_type": "display_data",
          "data": {
            "image/png": "[encoded data removed]",
            "text/plain": [
              "<Figure size 432x288 with 1 Axes>"
            ]
          },
          "metadata": {
            "tags": [],
            "needs_background": "light"
          }
        }
      ]
    },
    {
      "cell_type": "markdown",
      "metadata": {
        "id": "Nv8pbj21E741"
      },
      "source": [
        "## **Scalling**"
      ]
    },
    {
      "cell_type": "code",
      "metadata": {
        "id": "uAX0hBVgE_JI"
      },
      "source": [
        "scale = np.array([\n",
        "                  [1, 0],\n",
        "                  [1, 1]\n",
        "                ])"
      ],
      "execution_count": null,
      "outputs": []
    },
    {
      "cell_type": "code",
      "metadata": {
        "colab": {
          "base_uri": "https://localhost:8080/"
        },
        "id": "-HdCIUHEFL3L",
        "outputId": "9405dc3d-2ecb-4d4a-a0c5-8183ed74d2ba"
      },
      "source": [
        "plt.xlim(-3, 3)\n",
        "plt.ylim(-3, 3)\n",
        "\n",
        "result = matrix_1 @ scale\n",
        "range = np.arange(0,1,0.20)\n",
        "plt.scatter(range*result[0,0], range*result[1, 0], color='darkcyan', marker='^')\n",
        "plt.scatter(range*result[0,1], range*result[1, 1], color='saddlebrown', marker='^')\n",
        "\n",
        "plt.grid()\n",
        "plt.show()"
      ],
      "execution_count": null,
      "outputs": [
        {
          "output_type": "display_data",
          "data": {
            "image/png": "[encoded data removed]",
            "text/plain": [
              "<Figure size 432x288 with 1 Axes>"
            ]
          },
          "metadata": {
            "tags": [],
            "needs_background": "light"
          }
        }
      ]
    },
    {
      "cell_type": "markdown",
      "metadata": {
        "id": "ymUchDuxFdRN"
      },
      "source": [
        "## **Rotation**"
      ]
    },
    {
      "cell_type": "code",
      "metadata": {
        "id": "kYsz8vAGFhpF"
      },
      "source": [
        "def rotate_Matrix(theta):\n",
        "    theta = np.deg2rad(theta)\n",
        "    rot_mat = np.array([\n",
        "        [np.cos(theta), -np.sin(theta)],\n",
        "        [np.sin(theta), np.cos(theta)]\n",
        "    ])\n",
        "    return rot_mat"
      ],
      "execution_count": null,
      "outputs": []
    },
    {
      "cell_type": "code",
      "metadata": {
        "colab": {
          "base_uri": "https://localhost:8080/",
          "height": 269
        },
        "id": "PgTIrq3TFqX_",
        "outputId": "aa15dc08-c651-4c7e-bd57-4b358d2dd190"
      },
      "source": [
        "rotate = rotate_Matrix(180)\n",
        "\n",
        "plt.xlim(-3, 3)\n",
        "plt.ylim(-3, 3)\n",
        "\n",
        "result = matrix_1 @ scale @ rotate\n",
        "range = np.arange(0,1,0.20)\n",
        "plt.scatter(range*result[0,0], range*result[1, 0], color='darkcyan', marker='^')\n",
        "plt.scatter(range*result[0,1], range*result[1, 1], color='saddlebrown', marker='^')\n",
        "\n",
        "plt.grid()\n",
        "plt.show()"
      ],
      "execution_count": null,
      "outputs": [
        {
          "output_type": "display_data",
          "data": {
            "image/png": "[encoded data removed]",
            "text/plain": [
              "<Figure size 432x288 with 1 Axes>"
            ]
          },
          "metadata": {
            "tags": [],
            "needs_background": "light"
          }
        }
      ]
    }
  ]
}