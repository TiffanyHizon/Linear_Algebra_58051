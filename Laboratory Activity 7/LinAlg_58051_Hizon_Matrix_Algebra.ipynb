{
  "nbformat": 4,
  "nbformat_minor": 0,
  "metadata": {
    "colab": {
      "name": "LinAlg 58051 Hizon - Matrix Algebra.ipynb",
      "provenance": [],
      "authorship_tag": "ABX9TyPk4LtbOxVDGgr5ivYAC0lN",
      "include_colab_link": true
    },
    "kernelspec": {
      "name": "python3",
      "display_name": "Python 3"
    },
    "language_info": {
      "name": "python"
    }
  },
  "cells": [
    {
      "cell_type": "markdown",
      "metadata": {
        "id": "view-in-github",
        "colab_type": "text"
      },
      "source": [
        "<a href=\"https://colab.research.google.com/github/TiffanyHizon/Linear_Algebra_58051/blob/main/Laboratory%20Activity%207/LinAlg_58051_Hizon_Matrix_Algebra.ipynb\" target=\"_parent\"><img src=\"https://colab.research.google.com/assets/colab-badge.svg\" alt=\"Open In Colab\"/></a>"
      ]
    },
    {
      "cell_type": "markdown",
      "metadata": {
        "id": "ihl4s4ZqRRm-"
      },
      "source": [
        "# **Task 1**\n",
        "\n",
        "Prove and implement the remaining 6 matrix multiplication properties. You may create your own matrices in which their shapes should not be lower than  (3,3) . In your methodology, create individual flowcharts for each property and discuss the property you would then present your proofs or validity of your implementation in the results section by comparing your result to present functions from NumPy."
      ]
    },
    {
      "cell_type": "code",
      "metadata": {
        "id": "MVlQvBr5sI1f"
      },
      "source": [
        "import numpy as np"
      ],
      "execution_count": 62,
      "outputs": []
    },
    {
      "cell_type": "code",
      "metadata": {
        "id": "FEd-qCont7id"
      },
      "source": [
        "matrix_1 = np.array([\n",
        "                     [1, 2, 3],\n",
        "                     [4, 5, 6],\n",
        "                     [7, 8, 9]\n",
        "                    ])\n",
        "\n",
        "matrix_2 = np.array([\n",
        "                     [9, 8, 7],\n",
        "                     [6, 5, 4],\n",
        "                     [3, 2, 1]\n",
        "                    ])\n",
        "\n",
        "matrix_3 = np.array([\n",
        "                     [5, 1, 2],\n",
        "                     [2, 4, 1],\n",
        "                     [2, 1, 2]\n",
        "                    ])"
      ],
      "execution_count": 63,
      "outputs": []
    },
    {
      "cell_type": "markdown",
      "metadata": {
        "id": "5mW7b6ltr8L4"
      },
      "source": [
        "**Commutative Property**"
      ]
    },
    {
      "cell_type": "markdown",
      "metadata": {
        "id": "ELWZAgtJvG4y"
      },
      "source": [
        "$$AB \\neq BA $$"
      ]
    },
    {
      "cell_type": "code",
      "metadata": {
        "id": "O18mw-tTvBAj"
      },
      "source": [
        "AB = matrix_1 @ matrix_2\n",
        "BA = matrix_2 @ matrix_1"
      ],
      "execution_count": 64,
      "outputs": []
    },
    {
      "cell_type": "code",
      "metadata": {
        "colab": {
          "base_uri": "https://localhost:8080/"
        },
        "id": "m8XkFqJnyP5r",
        "outputId": "d4b63170-c939-425d-8413-f60b85933de4"
      },
      "source": [
        "print(\"AB: \\n\", AB)"
      ],
      "execution_count": 65,
      "outputs": [
        {
          "output_type": "stream",
          "text": [
            "AB: \n",
            " [[ 30  24  18]\n",
            " [ 84  69  54]\n",
            " [138 114  90]]\n"
          ],
          "name": "stdout"
        }
      ]
    },
    {
      "cell_type": "code",
      "metadata": {
        "colab": {
          "base_uri": "https://localhost:8080/"
        },
        "id": "2VhLsr-ryUtV",
        "outputId": "068c98fe-bdb2-4330-c248-b22682dece4e"
      },
      "source": [
        "print(\"BA: \\n\", BA)"
      ],
      "execution_count": 66,
      "outputs": [
        {
          "output_type": "stream",
          "text": [
            "BA: \n",
            " [[ 90 114 138]\n",
            " [ 54  69  84]\n",
            " [ 18  24  30]]\n"
          ],
          "name": "stdout"
        }
      ]
    },
    {
      "cell_type": "code",
      "metadata": {
        "colab": {
          "base_uri": "https://localhost:8080/"
        },
        "id": "VSUosgxzyX-R",
        "outputId": "7d096199-e295-471a-e194-c1121527c94d"
      },
      "source": [
        "np.array_equiv(AB, BA)"
      ],
      "execution_count": 67,
      "outputs": [
        {
          "output_type": "execute_result",
          "data": {
            "text/plain": [
              "False"
            ]
          },
          "metadata": {
            "tags": []
          },
          "execution_count": 67
        }
      ]
    },
    {
      "cell_type": "markdown",
      "metadata": {
        "id": "ghFtiSrnuk2O"
      },
      "source": [
        "**Associative Property**"
      ]
    },
    {
      "cell_type": "markdown",
      "metadata": {
        "id": "2llUxklByuba"
      },
      "source": [
        "$$(AB)C = A(BC)$$"
      ]
    },
    {
      "cell_type": "code",
      "metadata": {
        "id": "Hv2jG8jMy7Eg"
      },
      "source": [
        "AB_C = (matrix_1 @ matrix_2) @ matrix_3 "
      ],
      "execution_count": 68,
      "outputs": []
    },
    {
      "cell_type": "code",
      "metadata": {
        "id": "U4l1bVh7zkKw"
      },
      "source": [
        "A_BC = matrix_1 @ (matrix_2 @ matrix_3)"
      ],
      "execution_count": 69,
      "outputs": []
    },
    {
      "cell_type": "code",
      "metadata": {
        "colab": {
          "base_uri": "https://localhost:8080/"
        },
        "id": "0I3FS_FBzqiJ",
        "outputId": "fc3d294d-0941-47d1-abfc-34d1f010068e"
      },
      "source": [
        "print(\"(AB)C: \\n\", AB_C)"
      ],
      "execution_count": 70,
      "outputs": [
        {
          "output_type": "stream",
          "text": [
            "(AB)C: \n",
            " [[ 234  144  120]\n",
            " [ 666  414  345]\n",
            " [1098  684  570]]\n"
          ],
          "name": "stdout"
        }
      ]
    },
    {
      "cell_type": "code",
      "metadata": {
        "colab": {
          "base_uri": "https://localhost:8080/"
        },
        "id": "aDxTuKot0Hmw",
        "outputId": "aaffeed9-099c-4ef2-90c7-ff6b943abe44"
      },
      "source": [
        "print(\"A(BC): \\n\", A_BC)"
      ],
      "execution_count": 71,
      "outputs": [
        {
          "output_type": "stream",
          "text": [
            "A(BC): \n",
            " [[ 234  144  120]\n",
            " [ 666  414  345]\n",
            " [1098  684  570]]\n"
          ],
          "name": "stdout"
        }
      ]
    },
    {
      "cell_type": "code",
      "metadata": {
        "colab": {
          "base_uri": "https://localhost:8080/"
        },
        "id": "8N6pNN6e0Onv",
        "outputId": "3d4d62c4-2298-4237-f25d-fe92401f00e9"
      },
      "source": [
        "np.array_equiv(AB_C, A_BC)"
      ],
      "execution_count": 72,
      "outputs": [
        {
          "output_type": "execute_result",
          "data": {
            "text/plain": [
              "True"
            ]
          },
          "metadata": {
            "tags": []
          },
          "execution_count": 72
        }
      ]
    },
    {
      "cell_type": "markdown",
      "metadata": {
        "id": "HSEkpN2evO33"
      },
      "source": [
        "**Distributive Property**"
      ]
    },
    {
      "cell_type": "markdown",
      "metadata": {
        "id": "VozKTWQpvbUO"
      },
      "source": [
        "$$(B+C)\\cdot A = B\\cdot A + C\\cdot A$$"
      ]
    },
    {
      "cell_type": "code",
      "metadata": {
        "id": "TvnyiOtrvch4"
      },
      "source": [
        "BC_A = (matrix_2 + matrix_3) @ matrix_1\n",
        "BA_CA = (matrix_2 @ matrix_1) + (matrix_3 @ matrix_1)"
      ],
      "execution_count": 73,
      "outputs": []
    },
    {
      "cell_type": "code",
      "metadata": {
        "colab": {
          "base_uri": "https://localhost:8080/"
        },
        "id": "hUCLk2aYySuA",
        "outputId": "8f6a4237-6b75-4393-f0bd-a3c07f2956eb"
      },
      "source": [
        "print(\"(B + C)A: \\n\", BC_A)"
      ],
      "execution_count": 74,
      "outputs": [
        {
          "output_type": "stream",
          "text": [
            "(B + C)A: \n",
            " [[113 145 177]\n",
            " [ 79 101 123]\n",
            " [ 38  49  60]]\n"
          ],
          "name": "stdout"
        }
      ]
    },
    {
      "cell_type": "code",
      "metadata": {
        "colab": {
          "base_uri": "https://localhost:8080/"
        },
        "id": "7A0VzprCybG8",
        "outputId": "4852b3ea-e725-4088-98d3-ec069dd3185e"
      },
      "source": [
        "print(\"BA + CA: \\n\", BA_CA)"
      ],
      "execution_count": 75,
      "outputs": [
        {
          "output_type": "stream",
          "text": [
            "BA + CA: \n",
            " [[113 145 177]\n",
            " [ 79 101 123]\n",
            " [ 38  49  60]]\n"
          ],
          "name": "stdout"
        }
      ]
    },
    {
      "cell_type": "code",
      "metadata": {
        "colab": {
          "base_uri": "https://localhost:8080/"
        },
        "id": "g3iUWS8Gygm0",
        "outputId": "da9b0623-c8e0-4e86-8a92-79ed5f5e06ed"
      },
      "source": [
        "np.array_equiv(BC_A, BA_CA)"
      ],
      "execution_count": 76,
      "outputs": [
        {
          "output_type": "execute_result",
          "data": {
            "text/plain": [
              "True"
            ]
          },
          "metadata": {
            "tags": []
          },
          "execution_count": 76
        }
      ]
    },
    {
      "cell_type": "markdown",
      "metadata": {
        "id": "qFsw0E6Puzfy"
      },
      "source": [
        "**Multiplicative Identity Property**"
      ]
    },
    {
      "cell_type": "markdown",
      "metadata": {
        "id": "TjqSkpYc2NPk"
      },
      "source": [
        "$$IA = A $$"
      ]
    },
    {
      "cell_type": "code",
      "metadata": {
        "id": "wQ-_zvRf4okb"
      },
      "source": [
        "I = np.eye(3, dtype = int)\n",
        "IA = I @ matrix_1"
      ],
      "execution_count": 77,
      "outputs": []
    },
    {
      "cell_type": "code",
      "metadata": {
        "colab": {
          "base_uri": "https://localhost:8080/"
        },
        "id": "jOkuFhIW68M_",
        "outputId": "62c43c04-23c6-4c5b-dc65-25725019ef68"
      },
      "source": [
        "print(\"IA: \\n\", IA)"
      ],
      "execution_count": 78,
      "outputs": [
        {
          "output_type": "stream",
          "text": [
            "IA: \n",
            " [[1 2 3]\n",
            " [4 5 6]\n",
            " [7 8 9]]\n"
          ],
          "name": "stdout"
        }
      ]
    },
    {
      "cell_type": "code",
      "metadata": {
        "colab": {
          "base_uri": "https://localhost:8080/"
        },
        "id": "v8neAY-_7Bxq",
        "outputId": "0c65ccd8-1e44-4f06-cc92-480cdeed1478"
      },
      "source": [
        "print(\"A: \\n\", matrix_1)"
      ],
      "execution_count": 79,
      "outputs": [
        {
          "output_type": "stream",
          "text": [
            "A: \n",
            " [[1 2 3]\n",
            " [4 5 6]\n",
            " [7 8 9]]\n"
          ],
          "name": "stdout"
        }
      ]
    },
    {
      "cell_type": "code",
      "metadata": {
        "colab": {
          "base_uri": "https://localhost:8080/"
        },
        "id": "VG2qq-oa7GKd",
        "outputId": "131991f4-1e76-4bf0-fcd5-e701835ae7f2"
      },
      "source": [
        "np.array_equiv(IA, matrix_1)"
      ],
      "execution_count": 80,
      "outputs": [
        {
          "output_type": "execute_result",
          "data": {
            "text/plain": [
              "True"
            ]
          },
          "metadata": {
            "tags": []
          },
          "execution_count": 80
        }
      ]
    },
    {
      "cell_type": "markdown",
      "metadata": {
        "id": "N-ITtQHku3-p"
      },
      "source": [
        "**Multiplicative Property of Zero**"
      ]
    },
    {
      "cell_type": "markdown",
      "metadata": {
        "id": "Egawox1q7Pld"
      },
      "source": [
        "$$0A = 0$$"
      ]
    },
    {
      "cell_type": "code",
      "metadata": {
        "id": "ZCisb5Fo8IuN"
      },
      "source": [
        "Zero = np.zeros(matrix_1.shape)\n",
        "OA = Zero @ matrix_1"
      ],
      "execution_count": 81,
      "outputs": []
    },
    {
      "cell_type": "code",
      "metadata": {
        "colab": {
          "base_uri": "https://localhost:8080/"
        },
        "id": "jx_1E4wi8dTb",
        "outputId": "43396838-b51b-43af-e20b-2e9901472ceb"
      },
      "source": [
        "print(\"0A: \\n\", OA)"
      ],
      "execution_count": 82,
      "outputs": [
        {
          "output_type": "stream",
          "text": [
            "0A: \n",
            " [[0. 0. 0.]\n",
            " [0. 0. 0.]\n",
            " [0. 0. 0.]]\n"
          ],
          "name": "stdout"
        }
      ]
    },
    {
      "cell_type": "code",
      "metadata": {
        "colab": {
          "base_uri": "https://localhost:8080/"
        },
        "id": "t6x-BKTHG4RL",
        "outputId": "ffeb9be9-cb86-4467-a0f1-075b08f1afbe"
      },
      "source": [
        "print(\"O: \\n\", Zero)"
      ],
      "execution_count": 83,
      "outputs": [
        {
          "output_type": "stream",
          "text": [
            "O: \n",
            " [[0. 0. 0.]\n",
            " [0. 0. 0.]\n",
            " [0. 0. 0.]]\n"
          ],
          "name": "stdout"
        }
      ]
    },
    {
      "cell_type": "code",
      "metadata": {
        "colab": {
          "base_uri": "https://localhost:8080/"
        },
        "id": "e5hQsn1bHA32",
        "outputId": "0216d68a-e088-4e78-d827-c3d324599f58"
      },
      "source": [
        "np.array_equiv(Zero, OA)"
      ],
      "execution_count": 84,
      "outputs": [
        {
          "output_type": "execute_result",
          "data": {
            "text/plain": [
              "True"
            ]
          },
          "metadata": {
            "tags": []
          },
          "execution_count": 84
        }
      ]
    },
    {
      "cell_type": "markdown",
      "metadata": {
        "id": "bVDLQr6Ru81j"
      },
      "source": [
        "**Multiplication Property 6**"
      ]
    },
    {
      "cell_type": "markdown",
      "metadata": {
        "id": "5qeJbxZoHNbS"
      },
      "source": [
        "$$A\\cdot A^{-1} = I$$"
      ]
    },
    {
      "cell_type": "code",
      "metadata": {
        "id": "2UHsCzASrtqT"
      },
      "source": [
        "I = np.eye(3, dtype = int)\n",
        "a_Inv = np.linalg.inv(matrix_3)\n",
        "Result = matrix_3 @ a_Inv"
      ],
      "execution_count": 85,
      "outputs": []
    },
    {
      "cell_type": "code",
      "metadata": {
        "colab": {
          "base_uri": "https://localhost:8080/"
        },
        "id": "W2WuuD45sQ6N",
        "outputId": "9330b6b7-eae7-46e7-a95d-aac76862827a"
      },
      "source": [
        "print(\"Matrix and Inverse of Matrix: \\n\", Result.astype(int))\n",
        "print(\"I: \\n\", I)"
      ],
      "execution_count": 86,
      "outputs": [
        {
          "output_type": "stream",
          "text": [
            "Matrix and Inverse of Matrix: \n",
            " [[1 0 0]\n",
            " [0 1 0]\n",
            " [0 0 1]]\n",
            "I: \n",
            " [[1 0 0]\n",
            " [0 1 0]\n",
            " [0 0 1]]\n"
          ],
          "name": "stdout"
        }
      ]
    },
    {
      "cell_type": "code",
      "metadata": {
        "colab": {
          "base_uri": "https://localhost:8080/"
        },
        "id": "qpNX2kutsnjj",
        "outputId": "d89611e0-a374-428c-953d-7655930c5a2e"
      },
      "source": [
        "np.array_equal(Result.astype(int), I)"
      ],
      "execution_count": 87,
      "outputs": [
        {
          "output_type": "execute_result",
          "data": {
            "text/plain": [
              "True"
            ]
          },
          "metadata": {
            "tags": []
          },
          "execution_count": 87
        }
      ]
    }
  ]
}