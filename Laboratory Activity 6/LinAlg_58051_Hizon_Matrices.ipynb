{
  "nbformat": 4,
  "nbformat_minor": 0,
  "metadata": {
    "colab": {
      "name": "LinAlg 58051 Hizon - Matrices.ipynb",
      "provenance": [],
      "collapsed_sections": [
        "HvTyqku4cY1L"
      ],
      "authorship_tag": "ABX9TyMR6yzCfB8ZbopQa3qMt4M7",
      "include_colab_link": true
    },
    "kernelspec": {
      "name": "python3",
      "display_name": "Python 3"
    },
    "language_info": {
      "name": "python"
    }
  },
  "cells": [
    {
      "cell_type": "markdown",
      "metadata": {
        "id": "view-in-github",
        "colab_type": "text"
      },
      "source": [
        "<a href=\"https://colab.research.google.com/github/TiffanyHizon/Linear_Algebra_58051/blob/main/Laboratory%20Activity%206/LinAlg_58051_Hizon_Matrices.ipynb\" target=\"_parent\"><img src=\"https://colab.research.google.com/assets/colab-badge.svg\" alt=\"Open In Colab\"/></a>"
      ]
    },
    {
      "cell_type": "markdown",
      "metadata": {
        "id": "O40aslbsQVFz"
      },
      "source": [
        "# **TASK 1**\n",
        "\n",
        "Create a function named mat_desc() that througouhly describes a matrix, it should:\n",
        "\n",
        "\n",
        "1.   Displays the shape, size, and rank of the matrix.\n",
        "2.   Displays whether the matrix is square or non-square.\n",
        "3. Displays whether the matrix is an empty matrix.\n",
        "4. Displays if the matrix is an identity, ones, or zeros matrix.\n",
        "\n",
        "Use 5 sample matrices in which their shapes are not lower than  (3,3) . In your methodology, create a flowchart discuss the functions and methods you have done. Present your results in the results section showing the description of each matrix you have declared."
      ]
    },
    {
      "cell_type": "code",
      "metadata": {
        "id": "HBnY_Pj_QpnO"
      },
      "source": [
        "import numpy as np"
      ],
      "execution_count": 1,
      "outputs": []
    },
    {
      "cell_type": "code",
      "metadata": {
        "id": "DgPNcBcSiVMn"
      },
      "source": [
        "matrix_1 = np.array([\n",
        "                      [1, 4, 7],\n",
        "                      [2, 5, 8],\n",
        "                      [3, 6, 9]\n",
        "            ])\n",
        "\n",
        "matrix_2 = np.array([\n",
        "                     [1, 2, 3],\n",
        "                     [4, 5, 6],\n",
        "                     [7, 8, 9]\n",
        "            ])\n",
        "\n",
        "matrix_3 = np.array([\n",
        "                     [1, 5, 9],\n",
        "                     [3, 5, 7],\n",
        "                     [7, 4, 3]\n",
        "            ])\n",
        "\n",
        "matrix_4 = np.array([\n",
        "                     [5, 3, 4],\n",
        "                     [9, 4, 7],\n",
        "                     [7, 1, 6]\n",
        "            ])\n",
        "\n",
        "matrix_5 = np.array([\n",
        "                     [6, 1, 8],\n",
        "                     [9, 4, 1],\n",
        "                     [1, 7, 6]\n",
        "            ])"
      ],
      "execution_count": 2,
      "outputs": []
    },
    {
      "cell_type": "code",
      "metadata": {
        "id": "82VXKGYLVpHC"
      },
      "source": [
        "def mat_desc(matrix):\n",
        "  print(matrix)\n",
        "  if matrix.size > 0:\n",
        "    square = True if matrix.shape[0] == matrix.shape[1] else False\n",
        "\n",
        "    print(\"Shape: \", matrix.shape)\n",
        "    print(\"Size: \", matrix.size)\n",
        "    print(\"Rank: \", matrix.ndim)\n",
        "    print(\"Is the matrix square? \", square)\n",
        "    print(\"Is the matrix empty? NO\")\n",
        "\n",
        "    zeroes = not np.any(matrix)\n",
        "    ones = np.all((matrix == 1))\n",
        "    rows = len(matrix);\n",
        "    columns = len(matrix[0]);\n",
        "    identity = True\n",
        "\n",
        "    print(\"Is the matrix zero? \", zeroes)\n",
        "    print(\"Is the matrix ones? \", ones)\n",
        "\n",
        "    for iteration in range(0, rows):\n",
        "      for number in range(0, columns):\n",
        "        if(iteration == number and matrix[iteration][number] !=1):\n",
        "          identity = False\n",
        "        if(iteration != number and matrix[iteration][number] !=0):\n",
        "          identity = False\n",
        "\n",
        "    if identity:\n",
        "      print(\"Is the matrix identity? True\")\n",
        "    else:\n",
        "      print(\"Is the matrix identity? False\")\n",
        "  \n",
        "  else:\n",
        "    print(\"Shape: N/A\")\n",
        "    print(\"Size: N/A\")\n",
        "    print(\"Rank: N/A\")\n",
        "    print(\"Is the matrix square? N/A\")\n",
        "    print(\"Is the matrix empty? YES\")\n",
        "    print(\"Is the matrix zero? N/A\")\n",
        "    print(\"Is the matrix ones? N/A\")\n",
        "    print(\"Is the matrix identity? N/A\")"
      ],
      "execution_count": 6,
      "outputs": []
    },
    {
      "cell_type": "code",
      "metadata": {
        "colab": {
          "base_uri": "https://localhost:8080/"
        },
        "id": "Y_8ME7SDbloK",
        "outputId": "83f18e36-c5b7-431e-90c9-f7322833d05a"
      },
      "source": [
        "mat_desc(matrix_1)"
      ],
      "execution_count": 7,
      "outputs": [
        {
          "output_type": "stream",
          "text": [
            "[[1 4 7]\n",
            " [2 5 8]\n",
            " [3 6 9]]\n",
            "Shape:  (3, 3)\n",
            "Size:  9\n",
            "Rank:  2\n",
            "Is the matrix square?  True\n",
            "Is the matrix empty? NO\n",
            "Is the matrix zero?  False\n",
            "Is the matrix ones?  False\n",
            "Is the matrix identity? False\n"
          ],
          "name": "stdout"
        }
      ]
    },
    {
      "cell_type": "code",
      "metadata": {
        "id": "H-alPHg1cLCJ"
      },
      "source": [
        "mat_desc(matrix_2)"
      ],
      "execution_count": null,
      "outputs": []
    },
    {
      "cell_type": "code",
      "metadata": {
        "id": "95ZEMUIFcNES"
      },
      "source": [
        "mat_desc(matrix_3)"
      ],
      "execution_count": null,
      "outputs": []
    },
    {
      "cell_type": "code",
      "metadata": {
        "id": "JtBYKuhOcPP_"
      },
      "source": [
        "mat_desc(matrix_4)"
      ],
      "execution_count": null,
      "outputs": []
    },
    {
      "cell_type": "code",
      "metadata": {
        "id": "T83llaXOcRSO"
      },
      "source": [
        "mat_desc(matrix_5)"
      ],
      "execution_count": null,
      "outputs": []
    },
    {
      "cell_type": "markdown",
      "metadata": {
        "id": "HvTyqku4cY1L"
      },
      "source": [
        "# **TASK 2**\n",
        "\n",
        "Create a function named mat_operations() that takes in two matrices or scalars a input parameters it should:\n",
        "\n",
        "\n",
        "1.   Display the description of each matrix, if the parameter is a scalar it tells that it is a scalar rather than describing it as a matrix.\n",
        "2.   Determines if the matrices are viable for operation and returns your own error message if they are not viable.\n",
        "3. Returns the sum of the matrices.\n",
        "4. Returns the differen of the matrices.\n",
        "5. Returns the element-wise multiplication of the matrices.\n",
        "6. Returns the element-wise division of the matrices.\n",
        "\n",
        "Use 5 sample matrices in which their shapes are not lower than  (3,3) . In your methodology, create a flowchart discuss the functions and methods you have done. Present your results in the results section showing the description of each matrix you have declared.\n",
        "\n"
      ]
    },
    {
      "cell_type": "code",
      "metadata": {
        "id": "LNnsd4etdIOJ"
      },
      "source": [
        "import numpy as np"
      ],
      "execution_count": 8,
      "outputs": []
    },
    {
      "cell_type": "code",
      "metadata": {
        "id": "BhqcGd9kdP_i"
      },
      "source": [
        "matrix_6 = np.array([\n",
        "                     [7, 4, 2],\n",
        "                     [9, 4, 5],\n",
        "                     [1, 6, 7]\n",
        "                  ])\n",
        "\n",
        "matrix_7 = np.array([\n",
        "                     [7, 6, 9],\n",
        "                     [4, 1, 3],\n",
        "                     [8, 5, 1]\n",
        "                  ])\n",
        "\n",
        "matrix_8 = np.array([\n",
        "                     [3, 5, 4],\n",
        "                     [2, 8, 6],\n",
        "                     [5, 4, 8]\n",
        "                  ])\n",
        "\n",
        "matrix_9 = np.array([\n",
        "                     [4, 5, 6],\n",
        "                     [9, 7, 2],\n",
        "                     [6, 3, 1]\n",
        "                  ])\n",
        "\n",
        "matrix_10 = np.array([\n",
        "                      [1, 2, 6],\n",
        "                      [2, 3, 7],\n",
        "                      [3, 9, 5]\n",
        "                  ])"
      ],
      "execution_count": 9,
      "outputs": []
    },
    {
      "cell_type": "code",
      "metadata": {
        "id": "AMFv2OQYgdwi"
      },
      "source": [
        "def mat_operations(A, B):\n",
        "  scalar_One = isinstance(A, (int, float, bytes, complex))\n",
        "  scalar_Two = isinstance(B, (int, float, bytes, complex))\n",
        "\n",
        "  matrix_One = isinstance(A, np.ndarray)\n",
        "  matrix_Two = isinstance(B, np.ndarray)\n",
        "\n",
        "  print(\"First Matrix: \\n\", A)\n",
        "  print(\"Is the matrix scalar? \\n\", scalar_One)\n",
        "\n",
        "  print(\"Second Matrix: \\n\", B)\n",
        "  print(\"Is the matrix scalar? \\n\", scalar_Two)\n",
        "\n",
        "  if scalar_One == True or scalar_Two == True or matrix_One == True and matrix_Two == True and A.shape == B.shape:\n",
        "    print(\"Addition: \\n\", A+B)\n",
        "    print(\"Subtraction: \\n\", A-B)\n",
        "    print(\"Multiplication: \\n\", A*B)\n",
        "    print(\"Division: \\n\", A/B)\n",
        "  elif matrix_Two == True and matrix_Two == True and A.shape!= B.shape:\n",
        "    print(\"Operation Error. Shapes must be equal\")"
      ],
      "execution_count": 14,
      "outputs": []
    },
    {
      "cell_type": "code",
      "metadata": {
        "colab": {
          "base_uri": "https://localhost:8080/"
        },
        "id": "Iif2jLsTmizy",
        "outputId": "6f36f268-a1a1-4836-94cd-837b556e20d5"
      },
      "source": [
        "mat_operations(matrix_6, matrix_7)"
      ],
      "execution_count": 15,
      "outputs": [
        {
          "output_type": "stream",
          "text": [
            "First Matrix: \n",
            " [[7 4 2]\n",
            " [9 4 5]\n",
            " [1 6 7]]\n",
            "Is the matrix scalar? \n",
            " False\n",
            "Second Matrix: \n",
            " [[7 6 9]\n",
            " [4 1 3]\n",
            " [8 5 1]]\n",
            "Is the matrix scalar? \n",
            " False\n",
            "Addition: \n",
            " [[14 10 11]\n",
            " [13  5  8]\n",
            " [ 9 11  8]]\n",
            "Subtraction: \n",
            " [[ 0 -2 -7]\n",
            " [ 5  3  2]\n",
            " [-7  1  6]]\n",
            "Multiplication: \n",
            " [[49 24 18]\n",
            " [36  4 15]\n",
            " [ 8 30  7]]\n",
            "Division: \n",
            " [[1.         0.66666667 0.22222222]\n",
            " [2.25       4.         1.66666667]\n",
            " [0.125      1.2        7.        ]]\n"
          ],
          "name": "stdout"
        }
      ]
    },
    {
      "cell_type": "code",
      "metadata": {
        "id": "s8R0-AT_oVb8"
      },
      "source": [
        "mat_operations(matrix_8, matrix_9)"
      ],
      "execution_count": null,
      "outputs": []
    },
    {
      "cell_type": "code",
      "metadata": {
        "id": "E6wNC5crojXl"
      },
      "source": [
        "mat_operations(matrix_10, matrix_6)"
      ],
      "execution_count": null,
      "outputs": []
    }
  ]
}